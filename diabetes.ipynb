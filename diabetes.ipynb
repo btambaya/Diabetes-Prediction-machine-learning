{
 "cells": [
  {
   "cell_type": "code",
   "execution_count": 1,
   "id": "82d7916d",
   "metadata": {},
   "outputs": [],
   "source": [
    "import pandas as pd\n",
    "import numpy as np\n",
    "import matplotlib.pyplot as plt\n",
    "import sklearn\n",
    "import seaborn as sns\n",
    "import sys\n",
    "# !conda install --yes --prefix {sys.prefix} seaborn\n",
    "\n",
    "# Models\n",
    "from sklearn.ensemble import RandomForestClassifier\n",
    "from sklearn.svm import LinearSVC\n",
    "from sklearn.linear_model import LogisticRegression \n",
    "from sklearn import svm\n",
    "from sklearn.neighbors import KNeighborsClassifier\n",
    "\n",
    "# Normilization and standardization\n",
    "from sklearn import preprocessing\n",
    "\n",
    "# Model Evaluation\n",
    "from sklearn.metrics import classification_report, confusion_matrix, accuracy_score\n",
    "\n",
    "# Model Hyperparametering tuning\n",
    "from sklearn.model_selection import RandomizedSearchCV, GridSearchCV\n"
   ]
  },
  {
   "cell_type": "code",
   "execution_count": 2,
   "id": "458c632e",
   "metadata": {},
   "outputs": [
    {
     "data": {
      "text/html": [
       "<div>\n",
       "<style scoped>\n",
       "    .dataframe tbody tr th:only-of-type {\n",
       "        vertical-align: middle;\n",
       "    }\n",
       "\n",
       "    .dataframe tbody tr th {\n",
       "        vertical-align: top;\n",
       "    }\n",
       "\n",
       "    .dataframe thead th {\n",
       "        text-align: right;\n",
       "    }\n",
       "</style>\n",
       "<table border=\"1\" class=\"dataframe\">\n",
       "  <thead>\n",
       "    <tr style=\"text-align: right;\">\n",
       "      <th></th>\n",
       "      <th>Pregnancies</th>\n",
       "      <th>Glucose</th>\n",
       "      <th>BloodPressure</th>\n",
       "      <th>SkinThickness</th>\n",
       "      <th>Insulin</th>\n",
       "      <th>BMI</th>\n",
       "      <th>DiabetesPedigreeFunction</th>\n",
       "      <th>Age</th>\n",
       "      <th>Outcome</th>\n",
       "    </tr>\n",
       "  </thead>\n",
       "  <tbody>\n",
       "    <tr>\n",
       "      <th>0</th>\n",
       "      <td>6</td>\n",
       "      <td>148</td>\n",
       "      <td>72</td>\n",
       "      <td>35</td>\n",
       "      <td>0</td>\n",
       "      <td>33.6</td>\n",
       "      <td>0.627</td>\n",
       "      <td>50</td>\n",
       "      <td>1</td>\n",
       "    </tr>\n",
       "    <tr>\n",
       "      <th>1</th>\n",
       "      <td>1</td>\n",
       "      <td>85</td>\n",
       "      <td>66</td>\n",
       "      <td>29</td>\n",
       "      <td>0</td>\n",
       "      <td>26.6</td>\n",
       "      <td>0.351</td>\n",
       "      <td>31</td>\n",
       "      <td>0</td>\n",
       "    </tr>\n",
       "    <tr>\n",
       "      <th>2</th>\n",
       "      <td>8</td>\n",
       "      <td>183</td>\n",
       "      <td>64</td>\n",
       "      <td>0</td>\n",
       "      <td>0</td>\n",
       "      <td>23.3</td>\n",
       "      <td>0.672</td>\n",
       "      <td>32</td>\n",
       "      <td>1</td>\n",
       "    </tr>\n",
       "    <tr>\n",
       "      <th>3</th>\n",
       "      <td>1</td>\n",
       "      <td>89</td>\n",
       "      <td>66</td>\n",
       "      <td>23</td>\n",
       "      <td>94</td>\n",
       "      <td>28.1</td>\n",
       "      <td>0.167</td>\n",
       "      <td>21</td>\n",
       "      <td>0</td>\n",
       "    </tr>\n",
       "    <tr>\n",
       "      <th>4</th>\n",
       "      <td>0</td>\n",
       "      <td>137</td>\n",
       "      <td>40</td>\n",
       "      <td>35</td>\n",
       "      <td>168</td>\n",
       "      <td>43.1</td>\n",
       "      <td>2.288</td>\n",
       "      <td>33</td>\n",
       "      <td>1</td>\n",
       "    </tr>\n",
       "  </tbody>\n",
       "</table>\n",
       "</div>"
      ],
      "text/plain": [
       "   Pregnancies  Glucose  BloodPressure  SkinThickness  Insulin   BMI  \\\n",
       "0            6      148             72             35        0  33.6   \n",
       "1            1       85             66             29        0  26.6   \n",
       "2            8      183             64              0        0  23.3   \n",
       "3            1       89             66             23       94  28.1   \n",
       "4            0      137             40             35      168  43.1   \n",
       "\n",
       "   DiabetesPedigreeFunction  Age  Outcome  \n",
       "0                     0.627   50        1  \n",
       "1                     0.351   31        0  \n",
       "2                     0.672   32        1  \n",
       "3                     0.167   21        0  \n",
       "4                     2.288   33        1  "
      ]
     },
     "execution_count": 2,
     "metadata": {},
     "output_type": "execute_result"
    }
   ],
   "source": [
    "#import data\n",
    "data = pd.read_csv(\"diabetes.csv\")\n",
    "data.head()"
   ]
  },
  {
   "cell_type": "code",
   "execution_count": 3,
   "id": "bd81c20e",
   "metadata": {},
   "outputs": [
    {
     "name": "stdout",
     "output_type": "stream",
     "text": [
      "<class 'pandas.core.frame.DataFrame'>\n",
      "RangeIndex: 768 entries, 0 to 767\n",
      "Data columns (total 9 columns):\n",
      " #   Column                    Non-Null Count  Dtype  \n",
      "---  ------                    --------------  -----  \n",
      " 0   Pregnancies               768 non-null    int64  \n",
      " 1   Glucose                   768 non-null    int64  \n",
      " 2   BloodPressure             768 non-null    int64  \n",
      " 3   SkinThickness             768 non-null    int64  \n",
      " 4   Insulin                   768 non-null    int64  \n",
      " 5   BMI                       768 non-null    float64\n",
      " 6   DiabetesPedigreeFunction  768 non-null    float64\n",
      " 7   Age                       768 non-null    int64  \n",
      " 8   Outcome                   768 non-null    int64  \n",
      "dtypes: float64(2), int64(7)\n",
      "memory usage: 54.1 KB\n"
     ]
    }
   ],
   "source": [
    "data.info()"
   ]
  },
  {
   "cell_type": "code",
   "execution_count": 4,
   "id": "38432a4f",
   "metadata": {},
   "outputs": [
    {
     "data": {
      "text/html": [
       "<div>\n",
       "<style scoped>\n",
       "    .dataframe tbody tr th:only-of-type {\n",
       "        vertical-align: middle;\n",
       "    }\n",
       "\n",
       "    .dataframe tbody tr th {\n",
       "        vertical-align: top;\n",
       "    }\n",
       "\n",
       "    .dataframe thead th {\n",
       "        text-align: right;\n",
       "    }\n",
       "</style>\n",
       "<table border=\"1\" class=\"dataframe\">\n",
       "  <thead>\n",
       "    <tr style=\"text-align: right;\">\n",
       "      <th></th>\n",
       "      <th>Pregnancies</th>\n",
       "      <th>Glucose</th>\n",
       "      <th>BloodPressure</th>\n",
       "      <th>SkinThickness</th>\n",
       "      <th>Insulin</th>\n",
       "      <th>BMI</th>\n",
       "      <th>DiabetesPedigreeFunction</th>\n",
       "      <th>Age</th>\n",
       "      <th>Outcome</th>\n",
       "    </tr>\n",
       "  </thead>\n",
       "  <tbody>\n",
       "    <tr>\n",
       "      <th>count</th>\n",
       "      <td>768.000000</td>\n",
       "      <td>768.000000</td>\n",
       "      <td>768.000000</td>\n",
       "      <td>768.000000</td>\n",
       "      <td>768.000000</td>\n",
       "      <td>768.000000</td>\n",
       "      <td>768.000000</td>\n",
       "      <td>768.000000</td>\n",
       "      <td>768.000000</td>\n",
       "    </tr>\n",
       "    <tr>\n",
       "      <th>mean</th>\n",
       "      <td>3.845052</td>\n",
       "      <td>120.894531</td>\n",
       "      <td>69.105469</td>\n",
       "      <td>20.536458</td>\n",
       "      <td>79.799479</td>\n",
       "      <td>31.992578</td>\n",
       "      <td>0.471876</td>\n",
       "      <td>33.240885</td>\n",
       "      <td>0.348958</td>\n",
       "    </tr>\n",
       "    <tr>\n",
       "      <th>std</th>\n",
       "      <td>3.369578</td>\n",
       "      <td>31.972618</td>\n",
       "      <td>19.355807</td>\n",
       "      <td>15.952218</td>\n",
       "      <td>115.244002</td>\n",
       "      <td>7.884160</td>\n",
       "      <td>0.331329</td>\n",
       "      <td>11.760232</td>\n",
       "      <td>0.476951</td>\n",
       "    </tr>\n",
       "    <tr>\n",
       "      <th>min</th>\n",
       "      <td>0.000000</td>\n",
       "      <td>0.000000</td>\n",
       "      <td>0.000000</td>\n",
       "      <td>0.000000</td>\n",
       "      <td>0.000000</td>\n",
       "      <td>0.000000</td>\n",
       "      <td>0.078000</td>\n",
       "      <td>21.000000</td>\n",
       "      <td>0.000000</td>\n",
       "    </tr>\n",
       "    <tr>\n",
       "      <th>25%</th>\n",
       "      <td>1.000000</td>\n",
       "      <td>99.000000</td>\n",
       "      <td>62.000000</td>\n",
       "      <td>0.000000</td>\n",
       "      <td>0.000000</td>\n",
       "      <td>27.300000</td>\n",
       "      <td>0.243750</td>\n",
       "      <td>24.000000</td>\n",
       "      <td>0.000000</td>\n",
       "    </tr>\n",
       "    <tr>\n",
       "      <th>50%</th>\n",
       "      <td>3.000000</td>\n",
       "      <td>117.000000</td>\n",
       "      <td>72.000000</td>\n",
       "      <td>23.000000</td>\n",
       "      <td>30.500000</td>\n",
       "      <td>32.000000</td>\n",
       "      <td>0.372500</td>\n",
       "      <td>29.000000</td>\n",
       "      <td>0.000000</td>\n",
       "    </tr>\n",
       "    <tr>\n",
       "      <th>75%</th>\n",
       "      <td>6.000000</td>\n",
       "      <td>140.250000</td>\n",
       "      <td>80.000000</td>\n",
       "      <td>32.000000</td>\n",
       "      <td>127.250000</td>\n",
       "      <td>36.600000</td>\n",
       "      <td>0.626250</td>\n",
       "      <td>41.000000</td>\n",
       "      <td>1.000000</td>\n",
       "    </tr>\n",
       "    <tr>\n",
       "      <th>max</th>\n",
       "      <td>17.000000</td>\n",
       "      <td>199.000000</td>\n",
       "      <td>122.000000</td>\n",
       "      <td>99.000000</td>\n",
       "      <td>846.000000</td>\n",
       "      <td>67.100000</td>\n",
       "      <td>2.420000</td>\n",
       "      <td>81.000000</td>\n",
       "      <td>1.000000</td>\n",
       "    </tr>\n",
       "  </tbody>\n",
       "</table>\n",
       "</div>"
      ],
      "text/plain": [
       "       Pregnancies     Glucose  BloodPressure  SkinThickness     Insulin  \\\n",
       "count   768.000000  768.000000     768.000000     768.000000  768.000000   \n",
       "mean      3.845052  120.894531      69.105469      20.536458   79.799479   \n",
       "std       3.369578   31.972618      19.355807      15.952218  115.244002   \n",
       "min       0.000000    0.000000       0.000000       0.000000    0.000000   \n",
       "25%       1.000000   99.000000      62.000000       0.000000    0.000000   \n",
       "50%       3.000000  117.000000      72.000000      23.000000   30.500000   \n",
       "75%       6.000000  140.250000      80.000000      32.000000  127.250000   \n",
       "max      17.000000  199.000000     122.000000      99.000000  846.000000   \n",
       "\n",
       "              BMI  DiabetesPedigreeFunction         Age     Outcome  \n",
       "count  768.000000                768.000000  768.000000  768.000000  \n",
       "mean    31.992578                  0.471876   33.240885    0.348958  \n",
       "std      7.884160                  0.331329   11.760232    0.476951  \n",
       "min      0.000000                  0.078000   21.000000    0.000000  \n",
       "25%     27.300000                  0.243750   24.000000    0.000000  \n",
       "50%     32.000000                  0.372500   29.000000    0.000000  \n",
       "75%     36.600000                  0.626250   41.000000    1.000000  \n",
       "max     67.100000                  2.420000   81.000000    1.000000  "
      ]
     },
     "execution_count": 4,
     "metadata": {},
     "output_type": "execute_result"
    }
   ],
   "source": [
    "data.describe()"
   ]
  },
  {
   "cell_type": "code",
   "execution_count": 5,
   "id": "dcf8f449",
   "metadata": {},
   "outputs": [
    {
     "data": {
      "text/plain": [
       "Text(0, 0.5, 'Frequency')"
      ]
     },
     "execution_count": 5,
     "metadata": {},
     "output_type": "execute_result"
    },
    {
     "data": {
      "image/png": "[encoded data removed]",
      "text/plain": [
       "<Figure size 720x432 with 1 Axes>"
      ]
     },
     "metadata": {
      "needs_background": "light"
     },
     "output_type": "display_data"
    }
   ],
   "source": [
    "# plotting a chart for outcome\n",
    "data.Outcome.value_counts().plot(kind=\"bar\", figsize=(10,6), color=[\"skyblue\",\"salmon\"])\n",
    "\n",
    "plt.title(\"Outcome Frequency\")\n",
    "plt.xlabel(\"Diabetes Outcome\")\n",
    "plt.ylabel(\"Frequency\")"
   ]
  },
  {
   "cell_type": "code",
   "execution_count": 6,
   "id": "416a4449",
   "metadata": {},
   "outputs": [
    {
     "data": {
      "text/plain": [
       "<AxesSubplot:ylabel='Frequency'>"
      ]
     },
     "execution_count": 6,
     "metadata": {},
     "output_type": "execute_result"
    },
    {
     "data": {
      "image/png": "[encoded data removed]",
      "text/plain": [
       "<Figure size 432x288 with 1 Axes>"
      ]
     },
     "metadata": {
      "needs_background": "light"
     },
     "output_type": "display_data"
    }
   ],
   "source": [
    "# age distribution plot\n",
    "data.Age.plot.hist()"
   ]
  },
  {
   "cell_type": "code",
   "execution_count": 7,
   "id": "ef4e7ce0",
   "metadata": {},
   "outputs": [
    {
     "data": {
      "text/plain": [
       "<AxesSubplot:ylabel='Frequency'>"
      ]
     },
     "execution_count": 7,
     "metadata": {},
     "output_type": "execute_result"
    },
    {
     "data": {
      "image/png": "[encoded data removed]",
      "text/plain": [
       "<Figure size 432x288 with 1 Axes>"
      ]
     },
     "metadata": {
      "needs_background": "light"
     },
     "output_type": "display_data"
    }
   ],
   "source": [
    "# Pregnancy distribution plots\n",
    "data.Pregnancies.plot.hist()"
   ]
  },
  {
   "cell_type": "code",
   "execution_count": 8,
   "id": "c4211683",
   "metadata": {},
   "outputs": [
    {
     "data": {
      "text/html": [
       "<div>\n",
       "<style scoped>\n",
       "    .dataframe tbody tr th:only-of-type {\n",
       "        vertical-align: middle;\n",
       "    }\n",
       "\n",
       "    .dataframe tbody tr th {\n",
       "        vertical-align: top;\n",
       "    }\n",
       "\n",
       "    .dataframe thead th {\n",
       "        text-align: right;\n",
       "    }\n",
       "</style>\n",
       "<table border=\"1\" class=\"dataframe\">\n",
       "  <thead>\n",
       "    <tr style=\"text-align: right;\">\n",
       "      <th>Outcome</th>\n",
       "      <th>0</th>\n",
       "      <th>1</th>\n",
       "    </tr>\n",
       "    <tr>\n",
       "      <th>Pregnancies</th>\n",
       "      <th></th>\n",
       "      <th></th>\n",
       "    </tr>\n",
       "  </thead>\n",
       "  <tbody>\n",
       "    <tr>\n",
       "      <th>0</th>\n",
       "      <td>73</td>\n",
       "      <td>38</td>\n",
       "    </tr>\n",
       "    <tr>\n",
       "      <th>1</th>\n",
       "      <td>106</td>\n",
       "      <td>29</td>\n",
       "    </tr>\n",
       "    <tr>\n",
       "      <th>2</th>\n",
       "      <td>84</td>\n",
       "      <td>19</td>\n",
       "    </tr>\n",
       "    <tr>\n",
       "      <th>3</th>\n",
       "      <td>48</td>\n",
       "      <td>27</td>\n",
       "    </tr>\n",
       "    <tr>\n",
       "      <th>4</th>\n",
       "      <td>45</td>\n",
       "      <td>23</td>\n",
       "    </tr>\n",
       "    <tr>\n",
       "      <th>5</th>\n",
       "      <td>36</td>\n",
       "      <td>21</td>\n",
       "    </tr>\n",
       "    <tr>\n",
       "      <th>6</th>\n",
       "      <td>34</td>\n",
       "      <td>16</td>\n",
       "    </tr>\n",
       "    <tr>\n",
       "      <th>7</th>\n",
       "      <td>20</td>\n",
       "      <td>25</td>\n",
       "    </tr>\n",
       "    <tr>\n",
       "      <th>8</th>\n",
       "      <td>16</td>\n",
       "      <td>22</td>\n",
       "    </tr>\n",
       "    <tr>\n",
       "      <th>9</th>\n",
       "      <td>10</td>\n",
       "      <td>18</td>\n",
       "    </tr>\n",
       "    <tr>\n",
       "      <th>10</th>\n",
       "      <td>14</td>\n",
       "      <td>10</td>\n",
       "    </tr>\n",
       "    <tr>\n",
       "      <th>11</th>\n",
       "      <td>4</td>\n",
       "      <td>7</td>\n",
       "    </tr>\n",
       "    <tr>\n",
       "      <th>12</th>\n",
       "      <td>5</td>\n",
       "      <td>4</td>\n",
       "    </tr>\n",
       "    <tr>\n",
       "      <th>13</th>\n",
       "      <td>5</td>\n",
       "      <td>5</td>\n",
       "    </tr>\n",
       "    <tr>\n",
       "      <th>14</th>\n",
       "      <td>0</td>\n",
       "      <td>2</td>\n",
       "    </tr>\n",
       "    <tr>\n",
       "      <th>15</th>\n",
       "      <td>0</td>\n",
       "      <td>1</td>\n",
       "    </tr>\n",
       "    <tr>\n",
       "      <th>17</th>\n",
       "      <td>0</td>\n",
       "      <td>1</td>\n",
       "    </tr>\n",
       "  </tbody>\n",
       "</table>\n",
       "</div>"
      ],
      "text/plain": [
       "Outcome        0   1\n",
       "Pregnancies         \n",
       "0             73  38\n",
       "1            106  29\n",
       "2             84  19\n",
       "3             48  27\n",
       "4             45  23\n",
       "5             36  21\n",
       "6             34  16\n",
       "7             20  25\n",
       "8             16  22\n",
       "9             10  18\n",
       "10            14  10\n",
       "11             4   7\n",
       "12             5   4\n",
       "13             5   5\n",
       "14             0   2\n",
       "15             0   1\n",
       "17             0   1"
      ]
     },
     "execution_count": 8,
     "metadata": {},
     "output_type": "execute_result"
    }
   ],
   "source": [
    "pd.crosstab(data.Pregnancies, data.Outcome, dropna=False)"
   ]
  },
  {
   "cell_type": "code",
   "execution_count": 9,
   "id": "2f5a4d78",
   "metadata": {},
   "outputs": [
    {
     "data": {
      "image/png": "[encoded data removed]",
      "text/plain": [
       "<Figure size 720x432 with 1 Axes>"
      ]
     },
     "metadata": {
      "needs_background": "light"
     },
     "output_type": "display_data"
    }
   ],
   "source": [
    "# Pregannacies Frequency per Ouctome\n",
    "pd.crosstab(data.Pregnancies, data.Outcome, dropna=False).plot(kind=\"bar\", \n",
    "                                   figsize=(10,6), \n",
    "                                   color=[\"lightblue\", \"salmon\"])\n",
    "\n",
    "# Add attributes to the plot to make it more readable\n",
    "plt.title(\"Pregannacies Frequency per Ouctome\")\n",
    "plt.xlabel(\"Diabetes Outcome\")\n",
    "plt.ylabel(\"Pregnancies\")\n",
    "plt.legend([\"Negative 0\", \"Positive 1\"])\n",
    "plt.xticks(rotation = 0);"
   ]
  },
  {
   "cell_type": "code",
   "execution_count": 10,
   "id": "fb260937",
   "metadata": {},
   "outputs": [
    {
     "data": {
      "text/plain": [
       "<matplotlib.legend.Legend at 0x7fd4481adc70>"
      ]
     },
     "execution_count": 10,
     "metadata": {},
     "output_type": "execute_result"
    },
    {
     "data": {
      "image/png": "[encoded data removed]",
      "text/plain": [
       "<Figure size 1080x720 with 1 Axes>"
      ]
     },
     "metadata": {
      "needs_background": "light"
     },
     "output_type": "display_data"
    }
   ],
   "source": [
    "pd.crosstab(data.Age, data.Outcome, dropna=False).plot(kind=\"bar\", \n",
    "                                   figsize=(15,10), \n",
    "                                   color=[\"lightblue\", \"salmon\"])\n",
    "# Add attributes to the plot to make it more readable\n",
    "plt.title(\"Age per Ouctome\")\n",
    "plt.xlabel(\"Diabetes Outcome\")\n",
    "plt.ylabel(\"Age\")\n",
    "plt.legend([\"Negative 0\", \"Positive 1\"])"
   ]
  },
  {
   "cell_type": "code",
   "execution_count": 11,
   "id": "7cf4bc71",
   "metadata": {},
   "outputs": [
    {
     "data": {
      "text/html": [
       "<div>\n",
       "<style scoped>\n",
       "    .dataframe tbody tr th:only-of-type {\n",
       "        vertical-align: middle;\n",
       "    }\n",
       "\n",
       "    .dataframe tbody tr th {\n",
       "        vertical-align: top;\n",
       "    }\n",
       "\n",
       "    .dataframe thead th {\n",
       "        text-align: right;\n",
       "    }\n",
       "</style>\n",
       "<table border=\"1\" class=\"dataframe\">\n",
       "  <thead>\n",
       "    <tr style=\"text-align: right;\">\n",
       "      <th></th>\n",
       "      <th>Pregnancies</th>\n",
       "      <th>Glucose</th>\n",
       "      <th>BloodPressure</th>\n",
       "      <th>SkinThickness</th>\n",
       "      <th>Insulin</th>\n",
       "      <th>BMI</th>\n",
       "      <th>DiabetesPedigreeFunction</th>\n",
       "      <th>Age</th>\n",
       "      <th>Outcome</th>\n",
       "    </tr>\n",
       "  </thead>\n",
       "  <tbody>\n",
       "    <tr>\n",
       "      <th>0</th>\n",
       "      <td>6</td>\n",
       "      <td>148.0</td>\n",
       "      <td>72.0</td>\n",
       "      <td>35.0</td>\n",
       "      <td>NaN</td>\n",
       "      <td>33.6</td>\n",
       "      <td>0.627</td>\n",
       "      <td>50.0</td>\n",
       "      <td>1</td>\n",
       "    </tr>\n",
       "    <tr>\n",
       "      <th>1</th>\n",
       "      <td>1</td>\n",
       "      <td>85.0</td>\n",
       "      <td>66.0</td>\n",
       "      <td>29.0</td>\n",
       "      <td>NaN</td>\n",
       "      <td>26.6</td>\n",
       "      <td>0.351</td>\n",
       "      <td>31.0</td>\n",
       "      <td>0</td>\n",
       "    </tr>\n",
       "    <tr>\n",
       "      <th>2</th>\n",
       "      <td>8</td>\n",
       "      <td>183.0</td>\n",
       "      <td>64.0</td>\n",
       "      <td>NaN</td>\n",
       "      <td>NaN</td>\n",
       "      <td>23.3</td>\n",
       "      <td>0.672</td>\n",
       "      <td>32.0</td>\n",
       "      <td>1</td>\n",
       "    </tr>\n",
       "    <tr>\n",
       "      <th>3</th>\n",
       "      <td>1</td>\n",
       "      <td>89.0</td>\n",
       "      <td>66.0</td>\n",
       "      <td>23.0</td>\n",
       "      <td>94.0</td>\n",
       "      <td>28.1</td>\n",
       "      <td>0.167</td>\n",
       "      <td>21.0</td>\n",
       "      <td>0</td>\n",
       "    </tr>\n",
       "    <tr>\n",
       "      <th>4</th>\n",
       "      <td>0</td>\n",
       "      <td>137.0</td>\n",
       "      <td>40.0</td>\n",
       "      <td>35.0</td>\n",
       "      <td>168.0</td>\n",
       "      <td>43.1</td>\n",
       "      <td>2.288</td>\n",
       "      <td>33.0</td>\n",
       "      <td>1</td>\n",
       "    </tr>\n",
       "    <tr>\n",
       "      <th>...</th>\n",
       "      <td>...</td>\n",
       "      <td>...</td>\n",
       "      <td>...</td>\n",
       "      <td>...</td>\n",
       "      <td>...</td>\n",
       "      <td>...</td>\n",
       "      <td>...</td>\n",
       "      <td>...</td>\n",
       "      <td>...</td>\n",
       "    </tr>\n",
       "    <tr>\n",
       "      <th>763</th>\n",
       "      <td>10</td>\n",
       "      <td>101.0</td>\n",
       "      <td>76.0</td>\n",
       "      <td>48.0</td>\n",
       "      <td>180.0</td>\n",
       "      <td>32.9</td>\n",
       "      <td>0.171</td>\n",
       "      <td>63.0</td>\n",
       "      <td>0</td>\n",
       "    </tr>\n",
       "    <tr>\n",
       "      <th>764</th>\n",
       "      <td>2</td>\n",
       "      <td>122.0</td>\n",
       "      <td>70.0</td>\n",
       "      <td>27.0</td>\n",
       "      <td>NaN</td>\n",
       "      <td>36.8</td>\n",
       "      <td>0.340</td>\n",
       "      <td>27.0</td>\n",
       "      <td>0</td>\n",
       "    </tr>\n",
       "    <tr>\n",
       "      <th>765</th>\n",
       "      <td>5</td>\n",
       "      <td>121.0</td>\n",
       "      <td>72.0</td>\n",
       "      <td>23.0</td>\n",
       "      <td>112.0</td>\n",
       "      <td>26.2</td>\n",
       "      <td>0.245</td>\n",
       "      <td>30.0</td>\n",
       "      <td>0</td>\n",
       "    </tr>\n",
       "    <tr>\n",
       "      <th>766</th>\n",
       "      <td>1</td>\n",
       "      <td>126.0</td>\n",
       "      <td>60.0</td>\n",
       "      <td>NaN</td>\n",
       "      <td>NaN</td>\n",
       "      <td>30.1</td>\n",
       "      <td>0.349</td>\n",
       "      <td>47.0</td>\n",
       "      <td>1</td>\n",
       "    </tr>\n",
       "    <tr>\n",
       "      <th>767</th>\n",
       "      <td>1</td>\n",
       "      <td>93.0</td>\n",
       "      <td>70.0</td>\n",
       "      <td>31.0</td>\n",
       "      <td>NaN</td>\n",
       "      <td>30.4</td>\n",
       "      <td>0.315</td>\n",
       "      <td>23.0</td>\n",
       "      <td>0</td>\n",
       "    </tr>\n",
       "  </tbody>\n",
       "</table>\n",
       "<p>768 rows × 9 columns</p>\n",
       "</div>"
      ],
      "text/plain": [
       "     Pregnancies  Glucose  BloodPressure  SkinThickness  Insulin   BMI  \\\n",
       "0              6    148.0           72.0           35.0      NaN  33.6   \n",
       "1              1     85.0           66.0           29.0      NaN  26.6   \n",
       "2              8    183.0           64.0            NaN      NaN  23.3   \n",
       "3              1     89.0           66.0           23.0     94.0  28.1   \n",
       "4              0    137.0           40.0           35.0    168.0  43.1   \n",
       "..           ...      ...            ...            ...      ...   ...   \n",
       "763           10    101.0           76.0           48.0    180.0  32.9   \n",
       "764            2    122.0           70.0           27.0      NaN  36.8   \n",
       "765            5    121.0           72.0           23.0    112.0  26.2   \n",
       "766            1    126.0           60.0            NaN      NaN  30.1   \n",
       "767            1     93.0           70.0           31.0      NaN  30.4   \n",
       "\n",
       "     DiabetesPedigreeFunction   Age  Outcome  \n",
       "0                       0.627  50.0        1  \n",
       "1                       0.351  31.0        0  \n",
       "2                       0.672  32.0        1  \n",
       "3                       0.167  21.0        0  \n",
       "4                       2.288  33.0        1  \n",
       "..                        ...   ...      ...  \n",
       "763                     0.171  63.0        0  \n",
       "764                     0.340  27.0        0  \n",
       "765                     0.245  30.0        0  \n",
       "766                     0.349  47.0        1  \n",
       "767                     0.315  23.0        0  \n",
       "\n",
       "[768 rows x 9 columns]"
      ]
     },
     "execution_count": 11,
     "metadata": {},
     "output_type": "execute_result"
    }
   ],
   "source": [
    "cols = [\"Glucose\",\"BloodPressure\",\"SkinThickness\",\"Insulin\",\"BMI\",\"DiabetesPedigreeFunction\",\"Age\"]\n",
    "data[cols] = data[cols].replace({'0':np.nan, 0:np.nan})\n",
    "data"
   ]
  },
  {
   "cell_type": "code",
   "execution_count": 12,
   "id": "9fc10ca1",
   "metadata": {},
   "outputs": [],
   "source": [
    "# # replace entries with missing values with mean values\n",
    "# data['Glucose'].fillna( value=data['Glucose'].mean(), inplace=True)\n",
    "# data['BloodPressure'].fillna(value=data['BloodPressure'].mean(), inplace=True )\n",
    "# data['SkinThickness'].fillna(value=data['SkinThickness'].mean(), inplace=True )\n",
    "# data['Insulin'].fillna(value=data['Insulin'].mean(), inplace=True )\n",
    "# data['BMI'].fillna( value=data['BMI'].mean(), inplace=True)\n",
    "# data['DiabetesPedigreeFunction'].fillna(value=data['DiabetesPedigreeFunction'].mean(), inplace=True )\n",
    "# data['Age'].fillna(value=data['Age'].mean(), inplace=True )"
   ]
  },
  {
   "cell_type": "code",
   "execution_count": 13,
   "id": "e5a5943c",
   "metadata": {},
   "outputs": [
    {
     "data": {
      "text/html": [
       "<div>\n",
       "<style scoped>\n",
       "    .dataframe tbody tr th:only-of-type {\n",
       "        vertical-align: middle;\n",
       "    }\n",
       "\n",
       "    .dataframe tbody tr th {\n",
       "        vertical-align: top;\n",
       "    }\n",
       "\n",
       "    .dataframe thead th {\n",
       "        text-align: right;\n",
       "    }\n",
       "</style>\n",
       "<table border=\"1\" class=\"dataframe\">\n",
       "  <thead>\n",
       "    <tr style=\"text-align: right;\">\n",
       "      <th></th>\n",
       "      <th>Pregnancies</th>\n",
       "      <th>Glucose</th>\n",
       "      <th>BloodPressure</th>\n",
       "      <th>SkinThickness</th>\n",
       "      <th>Insulin</th>\n",
       "      <th>BMI</th>\n",
       "      <th>DiabetesPedigreeFunction</th>\n",
       "      <th>Age</th>\n",
       "      <th>Outcome</th>\n",
       "    </tr>\n",
       "  </thead>\n",
       "  <tbody>\n",
       "    <tr>\n",
       "      <th>0</th>\n",
       "      <td>1</td>\n",
       "      <td>89.0</td>\n",
       "      <td>66.0</td>\n",
       "      <td>23.0</td>\n",
       "      <td>94.0</td>\n",
       "      <td>28.1</td>\n",
       "      <td>0.167</td>\n",
       "      <td>21.0</td>\n",
       "      <td>0</td>\n",
       "    </tr>\n",
       "    <tr>\n",
       "      <th>1</th>\n",
       "      <td>0</td>\n",
       "      <td>137.0</td>\n",
       "      <td>40.0</td>\n",
       "      <td>35.0</td>\n",
       "      <td>168.0</td>\n",
       "      <td>43.1</td>\n",
       "      <td>2.288</td>\n",
       "      <td>33.0</td>\n",
       "      <td>1</td>\n",
       "    </tr>\n",
       "    <tr>\n",
       "      <th>2</th>\n",
       "      <td>3</td>\n",
       "      <td>78.0</td>\n",
       "      <td>50.0</td>\n",
       "      <td>32.0</td>\n",
       "      <td>88.0</td>\n",
       "      <td>31.0</td>\n",
       "      <td>0.248</td>\n",
       "      <td>26.0</td>\n",
       "      <td>1</td>\n",
       "    </tr>\n",
       "    <tr>\n",
       "      <th>3</th>\n",
       "      <td>2</td>\n",
       "      <td>197.0</td>\n",
       "      <td>70.0</td>\n",
       "      <td>45.0</td>\n",
       "      <td>543.0</td>\n",
       "      <td>30.5</td>\n",
       "      <td>0.158</td>\n",
       "      <td>53.0</td>\n",
       "      <td>1</td>\n",
       "    </tr>\n",
       "    <tr>\n",
       "      <th>4</th>\n",
       "      <td>1</td>\n",
       "      <td>189.0</td>\n",
       "      <td>60.0</td>\n",
       "      <td>23.0</td>\n",
       "      <td>846.0</td>\n",
       "      <td>30.1</td>\n",
       "      <td>0.398</td>\n",
       "      <td>59.0</td>\n",
       "      <td>1</td>\n",
       "    </tr>\n",
       "    <tr>\n",
       "      <th>...</th>\n",
       "      <td>...</td>\n",
       "      <td>...</td>\n",
       "      <td>...</td>\n",
       "      <td>...</td>\n",
       "      <td>...</td>\n",
       "      <td>...</td>\n",
       "      <td>...</td>\n",
       "      <td>...</td>\n",
       "      <td>...</td>\n",
       "    </tr>\n",
       "    <tr>\n",
       "      <th>387</th>\n",
       "      <td>0</td>\n",
       "      <td>181.0</td>\n",
       "      <td>88.0</td>\n",
       "      <td>44.0</td>\n",
       "      <td>510.0</td>\n",
       "      <td>43.3</td>\n",
       "      <td>0.222</td>\n",
       "      <td>26.0</td>\n",
       "      <td>1</td>\n",
       "    </tr>\n",
       "    <tr>\n",
       "      <th>388</th>\n",
       "      <td>1</td>\n",
       "      <td>128.0</td>\n",
       "      <td>88.0</td>\n",
       "      <td>39.0</td>\n",
       "      <td>110.0</td>\n",
       "      <td>36.5</td>\n",
       "      <td>1.057</td>\n",
       "      <td>37.0</td>\n",
       "      <td>1</td>\n",
       "    </tr>\n",
       "    <tr>\n",
       "      <th>389</th>\n",
       "      <td>2</td>\n",
       "      <td>88.0</td>\n",
       "      <td>58.0</td>\n",
       "      <td>26.0</td>\n",
       "      <td>16.0</td>\n",
       "      <td>28.4</td>\n",
       "      <td>0.766</td>\n",
       "      <td>22.0</td>\n",
       "      <td>0</td>\n",
       "    </tr>\n",
       "    <tr>\n",
       "      <th>390</th>\n",
       "      <td>10</td>\n",
       "      <td>101.0</td>\n",
       "      <td>76.0</td>\n",
       "      <td>48.0</td>\n",
       "      <td>180.0</td>\n",
       "      <td>32.9</td>\n",
       "      <td>0.171</td>\n",
       "      <td>63.0</td>\n",
       "      <td>0</td>\n",
       "    </tr>\n",
       "    <tr>\n",
       "      <th>391</th>\n",
       "      <td>5</td>\n",
       "      <td>121.0</td>\n",
       "      <td>72.0</td>\n",
       "      <td>23.0</td>\n",
       "      <td>112.0</td>\n",
       "      <td>26.2</td>\n",
       "      <td>0.245</td>\n",
       "      <td>30.0</td>\n",
       "      <td>0</td>\n",
       "    </tr>\n",
       "  </tbody>\n",
       "</table>\n",
       "<p>392 rows × 9 columns</p>\n",
       "</div>"
      ],
      "text/plain": [
       "     Pregnancies  Glucose  BloodPressure  SkinThickness  Insulin   BMI  \\\n",
       "0              1     89.0           66.0           23.0     94.0  28.1   \n",
       "1              0    137.0           40.0           35.0    168.0  43.1   \n",
       "2              3     78.0           50.0           32.0     88.0  31.0   \n",
       "3              2    197.0           70.0           45.0    543.0  30.5   \n",
       "4              1    189.0           60.0           23.0    846.0  30.1   \n",
       "..           ...      ...            ...            ...      ...   ...   \n",
       "387            0    181.0           88.0           44.0    510.0  43.3   \n",
       "388            1    128.0           88.0           39.0    110.0  36.5   \n",
       "389            2     88.0           58.0           26.0     16.0  28.4   \n",
       "390           10    101.0           76.0           48.0    180.0  32.9   \n",
       "391            5    121.0           72.0           23.0    112.0  26.2   \n",
       "\n",
       "     DiabetesPedigreeFunction   Age  Outcome  \n",
       "0                       0.167  21.0        0  \n",
       "1                       2.288  33.0        1  \n",
       "2                       0.248  26.0        1  \n",
       "3                       0.158  53.0        1  \n",
       "4                       0.398  59.0        1  \n",
       "..                        ...   ...      ...  \n",
       "387                     0.222  26.0        1  \n",
       "388                     1.057  37.0        1  \n",
       "389                     0.766  22.0        0  \n",
       "390                     0.171  63.0        0  \n",
       "391                     0.245  30.0        0  \n",
       "\n",
       "[392 rows x 9 columns]"
      ]
     },
     "execution_count": 13,
     "metadata": {},
     "output_type": "execute_result"
    }
   ],
   "source": [
    "# removing entries with missing values\n",
    "data=data.dropna()\n",
    "\n",
    "# reseting the index back to normal after enteries with missing values\n",
    "data=data.reset_index(drop=\"True\")\n",
    "data"
   ]
  },
  {
   "cell_type": "code",
   "execution_count": 14,
   "id": "d6a8ab47",
   "metadata": {},
   "outputs": [
    {
     "data": {
      "text/plain": [
       "0    262\n",
       "1    130\n",
       "Name: Outcome, dtype: int64"
      ]
     },
     "execution_count": 14,
     "metadata": {},
     "output_type": "execute_result"
    }
   ],
   "source": [
    "# check our target values\n",
    "data.Outcome.value_counts()"
   ]
  },
  {
   "cell_type": "code",
   "execution_count": 15,
   "id": "2091135f",
   "metadata": {},
   "outputs": [
    {
     "data": {
      "text/html": [
       "<div>\n",
       "<style scoped>\n",
       "    .dataframe tbody tr th:only-of-type {\n",
       "        vertical-align: middle;\n",
       "    }\n",
       "\n",
       "    .dataframe tbody tr th {\n",
       "        vertical-align: top;\n",
       "    }\n",
       "\n",
       "    .dataframe thead th {\n",
       "        text-align: right;\n",
       "    }\n",
       "</style>\n",
       "<table border=\"1\" class=\"dataframe\">\n",
       "  <thead>\n",
       "    <tr style=\"text-align: right;\">\n",
       "      <th></th>\n",
       "      <th>Pregnancies</th>\n",
       "      <th>Glucose</th>\n",
       "      <th>BloodPressure</th>\n",
       "      <th>SkinThickness</th>\n",
       "      <th>Insulin</th>\n",
       "      <th>BMI</th>\n",
       "      <th>DiabetesPedigreeFunction</th>\n",
       "      <th>Age</th>\n",
       "      <th>Outcome</th>\n",
       "    </tr>\n",
       "  </thead>\n",
       "  <tbody>\n",
       "    <tr>\n",
       "      <th>Pregnancies</th>\n",
       "      <td>1.000000</td>\n",
       "      <td>0.198291</td>\n",
       "      <td>0.213355</td>\n",
       "      <td>0.093209</td>\n",
       "      <td>0.078984</td>\n",
       "      <td>-0.025347</td>\n",
       "      <td>0.007562</td>\n",
       "      <td>0.679608</td>\n",
       "      <td>0.256566</td>\n",
       "    </tr>\n",
       "    <tr>\n",
       "      <th>Glucose</th>\n",
       "      <td>0.198291</td>\n",
       "      <td>1.000000</td>\n",
       "      <td>0.210027</td>\n",
       "      <td>0.198856</td>\n",
       "      <td>0.581223</td>\n",
       "      <td>0.209516</td>\n",
       "      <td>0.140180</td>\n",
       "      <td>0.343641</td>\n",
       "      <td>0.515703</td>\n",
       "    </tr>\n",
       "    <tr>\n",
       "      <th>BloodPressure</th>\n",
       "      <td>0.213355</td>\n",
       "      <td>0.210027</td>\n",
       "      <td>1.000000</td>\n",
       "      <td>0.232571</td>\n",
       "      <td>0.098512</td>\n",
       "      <td>0.304403</td>\n",
       "      <td>-0.015971</td>\n",
       "      <td>0.300039</td>\n",
       "      <td>0.192673</td>\n",
       "    </tr>\n",
       "    <tr>\n",
       "      <th>SkinThickness</th>\n",
       "      <td>0.093209</td>\n",
       "      <td>0.198856</td>\n",
       "      <td>0.232571</td>\n",
       "      <td>1.000000</td>\n",
       "      <td>0.182199</td>\n",
       "      <td>0.664355</td>\n",
       "      <td>0.160499</td>\n",
       "      <td>0.167761</td>\n",
       "      <td>0.255936</td>\n",
       "    </tr>\n",
       "    <tr>\n",
       "      <th>Insulin</th>\n",
       "      <td>0.078984</td>\n",
       "      <td>0.581223</td>\n",
       "      <td>0.098512</td>\n",
       "      <td>0.182199</td>\n",
       "      <td>1.000000</td>\n",
       "      <td>0.226397</td>\n",
       "      <td>0.135906</td>\n",
       "      <td>0.217082</td>\n",
       "      <td>0.301429</td>\n",
       "    </tr>\n",
       "    <tr>\n",
       "      <th>BMI</th>\n",
       "      <td>-0.025347</td>\n",
       "      <td>0.209516</td>\n",
       "      <td>0.304403</td>\n",
       "      <td>0.664355</td>\n",
       "      <td>0.226397</td>\n",
       "      <td>1.000000</td>\n",
       "      <td>0.158771</td>\n",
       "      <td>0.069814</td>\n",
       "      <td>0.270118</td>\n",
       "    </tr>\n",
       "    <tr>\n",
       "      <th>DiabetesPedigreeFunction</th>\n",
       "      <td>0.007562</td>\n",
       "      <td>0.140180</td>\n",
       "      <td>-0.015971</td>\n",
       "      <td>0.160499</td>\n",
       "      <td>0.135906</td>\n",
       "      <td>0.158771</td>\n",
       "      <td>1.000000</td>\n",
       "      <td>0.085029</td>\n",
       "      <td>0.209330</td>\n",
       "    </tr>\n",
       "    <tr>\n",
       "      <th>Age</th>\n",
       "      <td>0.679608</td>\n",
       "      <td>0.343641</td>\n",
       "      <td>0.300039</td>\n",
       "      <td>0.167761</td>\n",
       "      <td>0.217082</td>\n",
       "      <td>0.069814</td>\n",
       "      <td>0.085029</td>\n",
       "      <td>1.000000</td>\n",
       "      <td>0.350804</td>\n",
       "    </tr>\n",
       "    <tr>\n",
       "      <th>Outcome</th>\n",
       "      <td>0.256566</td>\n",
       "      <td>0.515703</td>\n",
       "      <td>0.192673</td>\n",
       "      <td>0.255936</td>\n",
       "      <td>0.301429</td>\n",
       "      <td>0.270118</td>\n",
       "      <td>0.209330</td>\n",
       "      <td>0.350804</td>\n",
       "      <td>1.000000</td>\n",
       "    </tr>\n",
       "  </tbody>\n",
       "</table>\n",
       "</div>"
      ],
      "text/plain": [
       "                          Pregnancies   Glucose  BloodPressure  SkinThickness  \\\n",
       "Pregnancies                  1.000000  0.198291       0.213355       0.093209   \n",
       "Glucose                      0.198291  1.000000       0.210027       0.198856   \n",
       "BloodPressure                0.213355  0.210027       1.000000       0.232571   \n",
       "SkinThickness                0.093209  0.198856       0.232571       1.000000   \n",
       "Insulin                      0.078984  0.581223       0.098512       0.182199   \n",
       "BMI                         -0.025347  0.209516       0.304403       0.664355   \n",
       "DiabetesPedigreeFunction     0.007562  0.140180      -0.015971       0.160499   \n",
       "Age                          0.679608  0.343641       0.300039       0.167761   \n",
       "Outcome                      0.256566  0.515703       0.192673       0.255936   \n",
       "\n",
       "                           Insulin       BMI  DiabetesPedigreeFunction  \\\n",
       "Pregnancies               0.078984 -0.025347                  0.007562   \n",
       "Glucose                   0.581223  0.209516                  0.140180   \n",
       "BloodPressure             0.098512  0.304403                 -0.015971   \n",
       "SkinThickness             0.182199  0.664355                  0.160499   \n",
       "Insulin                   1.000000  0.226397                  0.135906   \n",
       "BMI                       0.226397  1.000000                  0.158771   \n",
       "DiabetesPedigreeFunction  0.135906  0.158771                  1.000000   \n",
       "Age                       0.217082  0.069814                  0.085029   \n",
       "Outcome                   0.301429  0.270118                  0.209330   \n",
       "\n",
       "                               Age   Outcome  \n",
       "Pregnancies               0.679608  0.256566  \n",
       "Glucose                   0.343641  0.515703  \n",
       "BloodPressure             0.300039  0.192673  \n",
       "SkinThickness             0.167761  0.255936  \n",
       "Insulin                   0.217082  0.301429  \n",
       "BMI                       0.069814  0.270118  \n",
       "DiabetesPedigreeFunction  0.085029  0.209330  \n",
       "Age                       1.000000  0.350804  \n",
       "Outcome                   0.350804  1.000000  "
      ]
     },
     "execution_count": 15,
     "metadata": {},
     "output_type": "execute_result"
    }
   ],
   "source": [
    "# Find the correlation between our independent variables\n",
    "corr_matrix = data.corr()\n",
    "corr_matrix"
   ]
  },
  {
   "cell_type": "code",
   "execution_count": 16,
   "id": "a498b5a0",
   "metadata": {},
   "outputs": [
    {
     "data": {
      "image/png": "[encoded data removed]",
      "text/plain": [
       "<Figure size 1080x720 with 2 Axes>"
      ]
     },
     "metadata": {
      "needs_background": "light"
     },
     "output_type": "display_data"
    }
   ],
   "source": [
    "# plotting a correlation plot\n",
    "corr_matrix = data.corr()\n",
    "plt.figure(figsize=(15, 10))\n",
    "sns.heatmap(corr_matrix, \n",
    "            annot=True, \n",
    "            linewidths=0.5, \n",
    "            fmt= \".2f\", \n",
    "            cmap=\"YlGnBu\");"
   ]
  },
  {
   "cell_type": "code",
   "execution_count": 17,
   "id": "9b7202e8",
   "metadata": {},
   "outputs": [],
   "source": [
    "# # normalize the data attributes\n",
    "# normalized_x = preprocessing.normalize(data.drop(\"Outcome\", axis=1))\n",
    "# normalized_x"
   ]
  },
  {
   "cell_type": "code",
   "execution_count": 18,
   "id": "072e16c8",
   "metadata": {},
   "outputs": [],
   "source": [
    "# # standardize the data attributes\n",
    "# standardized_x = preprocessing.scale(data.drop(\"Outcome\", axis=1))\n",
    "# standardized_x"
   ]
  },
  {
   "cell_type": "markdown",
   "id": "20944643",
   "metadata": {},
   "source": [
    "# 1. RandomForestClassifier\n",
    "\n"
   ]
  },
  {
   "cell_type": "code",
   "execution_count": 19,
   "id": "b6f8ed0a",
   "metadata": {},
   "outputs": [
    {
     "data": {
      "text/plain": [
       "0.8227848101265823"
      ]
     },
     "execution_count": 19,
     "metadata": {},
     "output_type": "execute_result"
    }
   ],
   "source": [
    "np.random.seed(12)\n",
    "\n",
    "# Setting Data\n",
    "x = data.drop(\"Outcome\", axis=1)\n",
    "y = data.Outcome\n",
    "\n",
    "# split data\n",
    "from sklearn.model_selection import train_test_split\n",
    "\n",
    "x_train, x_test, y_train, y_test = train_test_split(x,y, test_size=0.2)\n",
    "\n",
    "# Random Forest Classifier\n",
    "rf = RandomForestClassifier()\n",
    "\n",
    "#Fitting Model\n",
    "rf.fit(x_train, y_train)\n",
    "\n",
    "# Evaluating the RandomForestClassifier\n",
    "one=rf.score(x_test, y_test)\n",
    "one"
   ]
  },
  {
   "cell_type": "code",
   "execution_count": 20,
   "id": "58a989ae",
   "metadata": {},
   "outputs": [
    {
     "name": "stdout",
     "output_type": "stream",
     "text": [
      "              precision    recall  f1-score   support\n",
      "\n",
      "           0       0.84      0.93      0.88        56\n",
      "           1       0.76      0.57      0.65        23\n",
      "\n",
      "    accuracy                           0.82        79\n",
      "   macro avg       0.80      0.75      0.77        79\n",
      "weighted avg       0.82      0.82      0.81        79\n",
      "\n",
      "Accuracy score:  0.8227848101265823\n"
     ]
    }
   ],
   "source": [
    "# Model Evaluation \n",
    "\n",
    "y_preds = rf.predict(x_test)\n",
    "y_preds\n",
    "\n",
    "print(classification_report(y_test, y_preds))\n",
    "\n",
    "print(\"Accuracy score: \",accuracy_score(y_test, y_preds))"
   ]
  },
  {
   "cell_type": "code",
   "execution_count": 21,
   "id": "429dc074",
   "metadata": {},
   "outputs": [
    {
     "data": {
      "text/html": [
       "<div>\n",
       "<style scoped>\n",
       "    .dataframe tbody tr th:only-of-type {\n",
       "        vertical-align: middle;\n",
       "    }\n",
       "\n",
       "    .dataframe tbody tr th {\n",
       "        vertical-align: top;\n",
       "    }\n",
       "\n",
       "    .dataframe thead th {\n",
       "        text-align: right;\n",
       "    }\n",
       "</style>\n",
       "<table border=\"1\" class=\"dataframe\">\n",
       "  <thead>\n",
       "    <tr style=\"text-align: right;\">\n",
       "      <th>Predicted Labels</th>\n",
       "      <th>0</th>\n",
       "      <th>1</th>\n",
       "    </tr>\n",
       "    <tr>\n",
       "      <th>Actual Labels</th>\n",
       "      <th></th>\n",
       "      <th></th>\n",
       "    </tr>\n",
       "  </thead>\n",
       "  <tbody>\n",
       "    <tr>\n",
       "      <th>0</th>\n",
       "      <td>52</td>\n",
       "      <td>4</td>\n",
       "    </tr>\n",
       "    <tr>\n",
       "      <th>1</th>\n",
       "      <td>10</td>\n",
       "      <td>13</td>\n",
       "    </tr>\n",
       "  </tbody>\n",
       "</table>\n",
       "</div>"
      ],
      "text/plain": [
       "Predicted Labels   0   1\n",
       "Actual Labels           \n",
       "0                 52   4\n",
       "1                 10  13"
      ]
     },
     "execution_count": 21,
     "metadata": {},
     "output_type": "execute_result"
    }
   ],
   "source": [
    "pd.crosstab(y_test, y_preds, rownames=[\"Actual Labels\"], colnames=[\"Predicted Labels\"])"
   ]
  },
  {
   "cell_type": "code",
   "execution_count": 22,
   "id": "cf12c359",
   "metadata": {},
   "outputs": [
    {
     "data": {
      "image/png": "[encoded data removed]",
      "text/plain": [
       "<Figure size 432x288 with 2 Axes>"
      ]
     },
     "metadata": {},
     "output_type": "display_data"
    }
   ],
   "source": [
    "sns.set(font_scale=1.5)\n",
    "\n",
    "conf_mat = confusion_matrix(y_test, y_preds)\n",
    "\n",
    "sns.heatmap(conf_mat);"
   ]
  },
  {
   "cell_type": "code",
   "execution_count": 23,
   "id": "9b64b48e",
   "metadata": {},
   "outputs": [
    {
     "data": {
      "image/png": "[encoded data removed]",
      "text/plain": [
       "<Figure size 216x216 with 1 Axes>"
      ]
     },
     "metadata": {},
     "output_type": "display_data"
    }
   ],
   "source": [
    "def plot_conf_mat(conf_mat):\n",
    "    Fig, ax =plt.subplots(figsize=(3,3))\n",
    "    ax = sns.heatmap(conf_mat, annot=True, cbar=False)\n",
    "    plt.xlabel(\"True Label\")\n",
    "    plt.ylabel(\"predicted Label\")\n",
    "    \n",
    "plot_conf_mat(conf_mat)"
   ]
  },
  {
   "cell_type": "code",
   "execution_count": 24,
   "id": "e9355507",
   "metadata": {},
   "outputs": [
    {
     "data": {
      "image/png": "[encoded data removed]",
      "text/plain": [
       "<Figure size 432x288 with 1 Axes>"
      ]
     },
     "metadata": {},
     "output_type": "display_data"
    }
   ],
   "source": [
    "# Import ROC curve function from metrics module\n",
    "from sklearn.metrics import plot_roc_curve\n",
    "\n",
    "# Plot ROC curve and calculate AUC metric\n",
    "plot_roc_curve(rf, x_test, y_test);"
   ]
  },
  {
   "cell_type": "code",
   "execution_count": 25,
   "id": "d0d60c20",
   "metadata": {},
   "outputs": [
    {
     "name": "stdout",
     "output_type": "stream",
     "text": [
      "Accuracy of Cross Validation:  0.7909769555339177\n",
      "Precision of Cross Validation:  0.7023919413919414\n",
      "Recall of Cross Validation:  0.6153846153846154\n",
      "Recall of Cross Validation:  0.6404615384615384\n"
     ]
    }
   ],
   "source": [
    "# Cross validation\n",
    "from sklearn.model_selection import cross_val_score\n",
    "ww = cross_val_score(rf, x, y)\n",
    "\n",
    "# Mean of cross validation\n",
    "rf_cross_val_score = np.mean(ww)\n",
    "print(\"Accuracy of Cross Validation: \", rf_cross_val_score)\n",
    "\n",
    "# Cross-validated precision score\n",
    "rf_cv_precision = np.mean(cross_val_score(rf,\n",
    "                                       x,\n",
    "                                       y,\n",
    "                                       cv=5, # 5-fold cross-validation\n",
    "                                       scoring=\"precision\")) # precision as scoring\n",
    "\n",
    "print(\"Precision of Cross Validation: \",rf_cv_precision )\n",
    "\n",
    "# Cross-validated recall score\n",
    "rf_cv_recall = np.mean(cross_val_score(rf,\n",
    "                                    x,\n",
    "                                    y,\n",
    "                                    cv=5, # 5-fold cross-validation\n",
    "                                    scoring=\"recall\")) # recall as scoring\n",
    "\n",
    "print(\"Recall of Cross Validation: \",rf_cv_recall )\n",
    "\n",
    "# Cross-validated F1 score\n",
    "rf_cv_f1 = np.mean(cross_val_score(rf,\n",
    "                                x,\n",
    "                                y,\n",
    "                                cv=5, # 5-fold cross-validation\n",
    "                                scoring=\"f1\")) # f1 as scoring\n",
    "\n",
    "print(\"Recall of Cross Validation: \",rf_cv_f1 )"
   ]
  },
  {
   "cell_type": "code",
   "execution_count": 26,
   "id": "f210a74e",
   "metadata": {},
   "outputs": [
    {
     "data": {
      "image/png": "[encoded data removed]",
      "text/plain": [
       "<Figure size 432x288 with 1 Axes>"
      ]
     },
     "metadata": {},
     "output_type": "display_data"
    }
   ],
   "source": [
    "# Visualizing cross-validated metrics\n",
    "rf_cv_metrics = pd.DataFrame({\"Accuracy\": rf_cross_val_score,\n",
    "                            \"Precision\": rf_cv_precision,\n",
    "                            \"Recall\": rf_cv_recall,\n",
    "                            \"F1\": rf_cv_f1},\n",
    "                          index=[0])\n",
    "rf_cv_metrics.T.plot.bar(title=\"Cross-Validated Metrics\", legend=False);"
   ]
  },
  {
   "cell_type": "code",
   "execution_count": 27,
   "id": "edbb325e",
   "metadata": {},
   "outputs": [],
   "source": [
    "# Tuning RandomForestClassifier model hyperparameters by hand.\n",
    "np.random.seed(12)\n",
    "# Create a list of train scores\n",
    "train_scores = []\n",
    "\n",
    "# Create a list of test scores\n",
    "test_scores = []\n",
    "\n",
    "# Create a list of different values for n_neighbors\n",
    "estimators = range(10, 210, 10) # 10 to 200\n",
    "\n",
    "# Setup algorithm\n",
    "rf = RandomForestClassifier()\n",
    "\n",
    "# Loop through different neighbors values\n",
    "for i in estimators:\n",
    "    rf.set_params(n_estimators = i) # set neighbors value\n",
    "    \n",
    "    # Fit the algorithm\n",
    "    rf.fit(x_train, y_train)\n",
    "    \n",
    "    # Update the training scores\n",
    "    train_scores.append(rf.score(x_train, y_train))\n",
    "    \n",
    "    # Update the test scores\n",
    "    test_scores.append(rf.score(x_test, y_test))"
   ]
  },
  {
   "cell_type": "code",
   "execution_count": 28,
   "id": "0f96bdaa",
   "metadata": {},
   "outputs": [
    {
     "data": {
      "text/plain": [
       "[0.7974683544303798,\n",
       " 0.8227848101265823,\n",
       " 0.8227848101265823,\n",
       " 0.8227848101265823,\n",
       " 0.8607594936708861,\n",
       " 0.810126582278481,\n",
       " 0.8227848101265823,\n",
       " 0.8227848101265823,\n",
       " 0.810126582278481,\n",
       " 0.8481012658227848,\n",
       " 0.8354430379746836,\n",
       " 0.8227848101265823,\n",
       " 0.810126582278481,\n",
       " 0.8481012658227848,\n",
       " 0.8354430379746836,\n",
       " 0.8354430379746836,\n",
       " 0.8227848101265823,\n",
       " 0.8227848101265823,\n",
       " 0.8354430379746836,\n",
       " 0.8354430379746836]"
      ]
     },
     "execution_count": 28,
     "metadata": {},
     "output_type": "execute_result"
    }
   ],
   "source": [
    "test_scores"
   ]
  },
  {
   "cell_type": "code",
   "execution_count": 29,
   "id": "b7b3f343",
   "metadata": {},
   "outputs": [
    {
     "name": "stdout",
     "output_type": "stream",
     "text": [
      "Maximum RandomForestClassifier score on the test data: 86.08%\n"
     ]
    },
    {
     "data": {
      "image/png": "[encoded data removed]",
      "text/plain": [
       "<Figure size 432x288 with 1 Axes>"
      ]
     },
     "metadata": {},
     "output_type": "display_data"
    }
   ],
   "source": [
    "sns.set(font_scale=0.8)\n",
    "plt.plot(estimators, test_scores, label=\"Test score\")\n",
    "plt.xticks(np.arange(10, 210, 10))\n",
    "plt.xlabel(\"Number of estimators\")\n",
    "plt.ylabel(\"Model score\")\n",
    "plt.legend()\n",
    "\n",
    "print(f\"Maximum RandomForestClassifier score on the test data: {max(test_scores)*100:.2f}%\")"
   ]
  },
  {
   "cell_type": "code",
   "execution_count": 30,
   "id": "8ac101f8",
   "metadata": {},
   "outputs": [
    {
     "name": "stdout",
     "output_type": "stream",
     "text": [
      "Fitting 5 folds for each of 20 candidates, totalling 100 fits\n"
     ]
    }
   ],
   "source": [
    "## Tuning RandomForestClassifier hyperparameters using RandomizedSearchCV\n",
    "# Different RandomForestClassifier hyperparameters\n",
    "rf_randomcv = {\"n_estimators\": np.arange(10, 1000, 50),\n",
    "           \"max_depth\": [None, 3, 5, 10],\n",
    "           \"min_samples_split\": np.arange(2, 20, 2),\n",
    "           \"min_samples_leaf\": np.arange(1, 20, 2)}\n",
    "\n",
    "# Setup random seed\n",
    "np.random.seed(42)\n",
    "\n",
    "# Setup random hyperparameter search for RandomForestClassifier\n",
    "rs_rf = RandomizedSearchCV(RandomForestClassifier(),\n",
    "                           param_distributions=rf_randomcv,\n",
    "                           n_iter=20,\n",
    "                           verbose=True)\n",
    "\n",
    "# Fit random hyperparameter search model\n",
    "rs_rf.fit(x_train, y_train);"
   ]
  },
  {
   "cell_type": "code",
   "execution_count": 31,
   "id": "7a01c453",
   "metadata": {},
   "outputs": [
    {
     "data": {
      "text/plain": [
       "{'n_estimators': 960,\n",
       " 'min_samples_split': 4,\n",
       " 'min_samples_leaf': 13,\n",
       " 'max_depth': 3}"
      ]
     },
     "execution_count": 31,
     "metadata": {},
     "output_type": "execute_result"
    }
   ],
   "source": [
    "# Find the best parameters\n",
    "rs_rf.best_params_"
   ]
  },
  {
   "cell_type": "code",
   "execution_count": 32,
   "id": "8ef1492a",
   "metadata": {},
   "outputs": [
    {
     "name": "stdout",
     "output_type": "stream",
     "text": [
      "Fitting 5 folds for each of 20 candidates, totalling 100 fits\n",
      "Fitting 5 folds for each of 20 candidates, totalling 100 fits\n",
      "Fitting 5 folds for each of 20 candidates, totalling 100 fits\n",
      "Fitting 5 folds for each of 20 candidates, totalling 100 fits\n",
      "Fitting 5 folds for each of 20 candidates, totalling 100 fits\n",
      "Accuracy of Cross Validation:  0.7859136643946769\n",
      "Fitting 5 folds for each of 20 candidates, totalling 100 fits\n",
      "Fitting 5 folds for each of 20 candidates, totalling 100 fits\n",
      "Fitting 5 folds for each of 20 candidates, totalling 100 fits\n",
      "Fitting 5 folds for each of 20 candidates, totalling 100 fits\n",
      "Fitting 5 folds for each of 20 candidates, totalling 100 fits\n",
      "Precision of Cross Validation:  0.7353650793650793\n",
      "Fitting 5 folds for each of 20 candidates, totalling 100 fits\n",
      "Fitting 5 folds for each of 20 candidates, totalling 100 fits\n",
      "Fitting 5 folds for each of 20 candidates, totalling 100 fits\n",
      "Fitting 5 folds for each of 20 candidates, totalling 100 fits\n",
      "Fitting 5 folds for each of 20 candidates, totalling 100 fits\n",
      "Recall of Cross Validation:  0.6076923076923076\n",
      "Fitting 5 folds for each of 20 candidates, totalling 100 fits\n",
      "Fitting 5 folds for each of 20 candidates, totalling 100 fits\n",
      "Fitting 5 folds for each of 20 candidates, totalling 100 fits\n",
      "Fitting 5 folds for each of 20 candidates, totalling 100 fits\n",
      "Fitting 5 folds for each of 20 candidates, totalling 100 fits\n",
      "Recall of Cross Validation:  0.6481979801954226\n"
     ]
    }
   ],
   "source": [
    "# Evaluate the randomized search random forest model\n",
    "uu = cross_val_score(rs_rf, x, y)\n",
    "\n",
    "# Mean of cross validation\n",
    "rs_rf_cross_val_score = np.mean(uu)\n",
    "print(\"Accuracy of Cross Validation: \", rs_rf_cross_val_score)\n",
    "\n",
    "# Cross-validated precision score\n",
    "rs_rf_cv_precision = np.mean(cross_val_score(rs_rf,\n",
    "                                       x,\n",
    "                                       y,\n",
    "                                       cv=5, # 5-fold cross-validation\n",
    "                                       scoring=\"precision\")) # precision as scoring\n",
    "\n",
    "print(\"Precision of Cross Validation: \",rs_rf_cv_precision )\n",
    "\n",
    "# Cross-validated recall score\n",
    "rs_rf_cv_recall = np.mean(cross_val_score(rs_rf,\n",
    "                                    x,\n",
    "                                    y,\n",
    "                                    cv=5, # 5-fold cross-validation\n",
    "                                    scoring=\"recall\")) # recall as scoring\n",
    "\n",
    "print(\"Recall of Cross Validation: \",rs_rf_cv_recall )\n",
    "\n",
    "# Cross-validated F1 score\n",
    "rs_rf_cv_f1 = np.mean(cross_val_score(rs_rf,\n",
    "                                x,\n",
    "                                y,\n",
    "                                cv=5, # 5-fold cross-validation\n",
    "                                scoring=\"f1\")) # f1 as scoring\n",
    "\n",
    "print(\"Recall of Cross Validation: \",rs_rf_cv_f1 )"
   ]
  },
  {
   "cell_type": "code",
   "execution_count": 33,
   "id": "b3f3d9d2",
   "metadata": {},
   "outputs": [
    {
     "data": {
      "image/png": "[encoded data removed]",
      "text/plain": [
       "<Figure size 432x288 with 1 Axes>"
      ]
     },
     "metadata": {},
     "output_type": "display_data"
    }
   ],
   "source": [
    "# Visualizing cross-validated metrics\n",
    "rs_rf_cv_metrics = pd.DataFrame({\"Accuracy\": rs_rf_cross_val_score,\n",
    "                            \"Precision\": rs_rf_cv_precision,\n",
    "                            \"Recall\": rs_rf_cv_recall,\n",
    "                            \"F1\": rs_rf_cv_f1},\n",
    "                          index=[0])\n",
    "rs_rf_cv_metrics.T.plot.bar(title=\"Cross-Validated Metrics\", legend=False);"
   ]
  },
  {
   "cell_type": "code",
   "execution_count": 34,
   "id": "e79fe747",
   "metadata": {},
   "outputs": [
    {
     "name": "stdout",
     "output_type": "stream",
     "text": [
      "Fitting 5 folds for each of 288 candidates, totalling 1440 fits\n"
     ]
    }
   ],
   "source": [
    "# Tuning RandomForestClassifier hyperparameters using GridSearchCv\n",
    "# Different RandomForestClassifier hyperparameters\n",
    "rf_gridcv = {\n",
    "    'bootstrap': [True],\n",
    "    'max_depth': [80, 90, 100, 110],\n",
    "    'max_features': [2, 3],\n",
    "    'min_samples_leaf': [3, 4, 5],\n",
    "    'min_samples_split': [8, 10, 12],\n",
    "    'n_estimators': [100, 200, 300, 1000]\n",
    "}\n",
    "\n",
    "# Setup grid hyperparameter search for RandomForestClassifier\n",
    "gs_rf = GridSearchCV(estimator = RandomForestClassifier() , param_grid = rf_gridcv, \n",
    "                           n_jobs = -1, verbose = 2)\n",
    "\n",
    "# Fit grid hyperparameter search model\n",
    "gs_rf.fit(x_train, y_train);"
   ]
  },
  {
   "cell_type": "code",
   "execution_count": 35,
   "id": "cc8922f5",
   "metadata": {},
   "outputs": [
    {
     "data": {
      "text/plain": [
       "{'bootstrap': True,\n",
       " 'max_depth': 90,\n",
       " 'max_features': 2,\n",
       " 'min_samples_leaf': 4,\n",
       " 'min_samples_split': 8,\n",
       " 'n_estimators': 100}"
      ]
     },
     "execution_count": 35,
     "metadata": {},
     "output_type": "execute_result"
    }
   ],
   "source": [
    "# Check the best parameters\n",
    "gs_rf.best_params_"
   ]
  },
  {
   "cell_type": "code",
   "execution_count": 36,
   "id": "4483dded",
   "metadata": {},
   "outputs": [
    {
     "name": "stdout",
     "output_type": "stream",
     "text": [
      "Fitting 5 folds for each of 288 candidates, totalling 1440 fits\n",
      "Fitting 5 folds for each of 288 candidates, totalling 1440 fits\n",
      "Fitting 5 folds for each of 288 candidates, totalling 1440 fits\n",
      "Fitting 5 folds for each of 288 candidates, totalling 1440 fits\n",
      "Fitting 5 folds for each of 288 candidates, totalling 1440 fits\n",
      "Accuracy of Cross Validation:  0.7731580655631287\n",
      "Fitting 5 folds for each of 288 candidates, totalling 1440 fits\n",
      "Fitting 5 folds for each of 288 candidates, totalling 1440 fits\n",
      "Fitting 5 folds for each of 288 candidates, totalling 1440 fits\n",
      "Fitting 5 folds for each of 288 candidates, totalling 1440 fits\n",
      "Fitting 5 folds for each of 288 candidates, totalling 1440 fits\n",
      "Precision of Cross Validation:  0.7433786696395392\n",
      "Fitting 5 folds for each of 288 candidates, totalling 1440 fits\n",
      "Fitting 5 folds for each of 288 candidates, totalling 1440 fits\n",
      "Fitting 5 folds for each of 288 candidates, totalling 1440 fits\n",
      "Fitting 5 folds for each of 288 candidates, totalling 1440 fits\n",
      "Fitting 5 folds for each of 288 candidates, totalling 1440 fits\n",
      "Recall of Cross Validation:  0.5846153846153846\n",
      "Fitting 5 folds for each of 288 candidates, totalling 1440 fits\n",
      "Fitting 5 folds for each of 288 candidates, totalling 1440 fits\n",
      "Fitting 5 folds for each of 288 candidates, totalling 1440 fits\n",
      "Fitting 5 folds for each of 288 candidates, totalling 1440 fits\n",
      "Fitting 5 folds for each of 288 candidates, totalling 1440 fits\n",
      "Recall of Cross Validation:  0.6573906485671192\n"
     ]
    }
   ],
   "source": [
    "# Evaluate the model\n",
    "ii = cross_val_score(gs_rf, x, y)\n",
    "\n",
    "# Mean of cross validation\n",
    "gs_rf_cross_val_score = np.mean(ii)\n",
    "print(\"Accuracy of Cross Validation: \", gs_rf_cross_val_score)\n",
    "\n",
    "# Cross-validated precision score\n",
    "gs_rf_cv_precision = np.mean(cross_val_score(gs_rf,\n",
    "                                       x,\n",
    "                                       y,\n",
    "                                       cv=5, # 5-fold cross-validation\n",
    "                                       scoring=\"precision\")) # precision as scoring\n",
    "\n",
    "print(\"Precision of Cross Validation: \",gs_rf_cv_precision )\n",
    "\n",
    "# Cross-validated recall score\n",
    "gs_rf_cv_recall = np.mean(cross_val_score(gs_rf,\n",
    "                                    x,\n",
    "                                    y,\n",
    "                                    cv=5, # 5-fold cross-validation\n",
    "                                    scoring=\"recall\")) # recall as scoring\n",
    "\n",
    "print(\"Recall of Cross Validation: \",gs_rf_cv_recall )\n",
    "\n",
    "# Cross-validated F1 score\n",
    "gs_rf_cv_f1 = np.mean(cross_val_score(gs_rf,\n",
    "                                x,\n",
    "                                y,\n",
    "                                cv=5, # 5-fold cross-validation\n",
    "                                scoring=\"f1\")) # f1 as scoring\n",
    "\n",
    "print(\"Recall of Cross Validation: \",gs_rf_cv_f1 )"
   ]
  },
  {
   "cell_type": "code",
   "execution_count": 37,
   "id": "42e2914a",
   "metadata": {},
   "outputs": [
    {
     "data": {
      "image/png": "[encoded data removed]",
      "text/plain": [
       "<Figure size 432x288 with 1 Axes>"
      ]
     },
     "metadata": {},
     "output_type": "display_data"
    }
   ],
   "source": [
    "# Visualizing cross-validated metrics\n",
    "gs_rf_cv_metrics = pd.DataFrame({\"Accuracy\": gs_rf_cross_val_score,\n",
    "                            \"Precision\": gs_rf_cv_precision,\n",
    "                            \"Recall\": gs_rf_cv_recall,\n",
    "                            \"F1\": gs_rf_cv_f1},\n",
    "                          index=[0])\n",
    "gs_rf_cv_metrics.T.plot.bar(title=\"Cross-Validated Metrics\", legend=False);"
   ]
  },
  {
   "cell_type": "markdown",
   "id": "8dbc0f57",
   "metadata": {},
   "source": [
    "# 2. LinearSVC"
   ]
  },
  {
   "cell_type": "code",
   "execution_count": 38,
   "id": "eeef6e8a",
   "metadata": {},
   "outputs": [
    {
     "name": "stderr",
     "output_type": "stream",
     "text": [
      "/Users/ahmadtambaya/Documents/projects/machinelearning/demo/env/lib/python3.9/site-packages/sklearn/svm/_base.py:985: ConvergenceWarning: Liblinear failed to converge, increase the number of iterations.\n",
      "  warnings.warn(\"Liblinear failed to converge, increase \"\n"
     ]
    },
    {
     "data": {
      "text/plain": [
       "0.810126582278481"
      ]
     },
     "execution_count": 38,
     "metadata": {},
     "output_type": "execute_result"
    }
   ],
   "source": [
    "np.random.seed(12)\n",
    "\n",
    "# Setting Data\n",
    "x1 = x\n",
    "y1 = y\n",
    "\n",
    "# split data\n",
    "\n",
    "x1_train, x1_test, y1_train, y1_test = train_test_split(x1,y1, test_size=0.2)\n",
    "\n",
    "# linearSVC\n",
    "\n",
    "svc = LinearSVC(max_iter=1000000)\n",
    "svc.fit(x1_train, y1_train)\n",
    "\n",
    "# Evaluating the LinearSVC\n",
    "two=svc.score(x1_test, y1_test)\n",
    "two"
   ]
  },
  {
   "cell_type": "code",
   "execution_count": 39,
   "id": "120a9217",
   "metadata": {},
   "outputs": [],
   "source": [
    "np.random.seed(12)"
   ]
  },
  {
   "cell_type": "code",
   "execution_count": 40,
   "id": "f9a2ae1d",
   "metadata": {},
   "outputs": [
    {
     "name": "stdout",
     "output_type": "stream",
     "text": [
      "              precision    recall  f1-score   support\n",
      "\n",
      "           0       0.83      0.93      0.87        56\n",
      "           1       0.75      0.52      0.62        23\n",
      "\n",
      "    accuracy                           0.81        79\n",
      "   macro avg       0.79      0.73      0.74        79\n",
      "weighted avg       0.80      0.81      0.80        79\n",
      "\n",
      "Accuracy score:  0.810126582278481\n"
     ]
    }
   ],
   "source": [
    "# Model Evaluation \n",
    "y1_preds = svc.predict(x1_test)\n",
    "y1_preds\n",
    "\n",
    "print(classification_report(y1_test, y1_preds))\n",
    "\n",
    "print(\"Accuracy score: \",accuracy_score(y1_test, y1_preds))"
   ]
  },
  {
   "cell_type": "code",
   "execution_count": 41,
   "id": "b11cef19",
   "metadata": {},
   "outputs": [
    {
     "data": {
      "text/html": [
       "<div>\n",
       "<style scoped>\n",
       "    .dataframe tbody tr th:only-of-type {\n",
       "        vertical-align: middle;\n",
       "    }\n",
       "\n",
       "    .dataframe tbody tr th {\n",
       "        vertical-align: top;\n",
       "    }\n",
       "\n",
       "    .dataframe thead th {\n",
       "        text-align: right;\n",
       "    }\n",
       "</style>\n",
       "<table border=\"1\" class=\"dataframe\">\n",
       "  <thead>\n",
       "    <tr style=\"text-align: right;\">\n",
       "      <th>Predicted Labels</th>\n",
       "      <th>0</th>\n",
       "      <th>1</th>\n",
       "    </tr>\n",
       "    <tr>\n",
       "      <th>Actual Labels</th>\n",
       "      <th></th>\n",
       "      <th></th>\n",
       "    </tr>\n",
       "  </thead>\n",
       "  <tbody>\n",
       "    <tr>\n",
       "      <th>0</th>\n",
       "      <td>52</td>\n",
       "      <td>4</td>\n",
       "    </tr>\n",
       "    <tr>\n",
       "      <th>1</th>\n",
       "      <td>11</td>\n",
       "      <td>12</td>\n",
       "    </tr>\n",
       "  </tbody>\n",
       "</table>\n",
       "</div>"
      ],
      "text/plain": [
       "Predicted Labels   0   1\n",
       "Actual Labels           \n",
       "0                 52   4\n",
       "1                 11  12"
      ]
     },
     "execution_count": 41,
     "metadata": {},
     "output_type": "execute_result"
    }
   ],
   "source": [
    "pd.crosstab(y1_test, y1_preds, rownames=[\"Actual Labels\"], colnames=[\"Predicted Labels\"])"
   ]
  },
  {
   "cell_type": "code",
   "execution_count": 42,
   "id": "b01c6eab",
   "metadata": {},
   "outputs": [
    {
     "data": {
      "image/png": "[encoded data removed]",
      "text/plain": [
       "<Figure size 432x288 with 2 Axes>"
      ]
     },
     "metadata": {},
     "output_type": "display_data"
    }
   ],
   "source": [
    "sns.set(font_scale=1.5)\n",
    "\n",
    "conf_mat1 = confusion_matrix(y1_test, y1_preds)\n",
    "\n",
    "sns.heatmap(conf_mat1);"
   ]
  },
  {
   "cell_type": "code",
   "execution_count": 43,
   "id": "7b33443c",
   "metadata": {},
   "outputs": [
    {
     "data": {
      "image/png": "[encoded data removed]",
      "text/plain": [
       "<Figure size 216x216 with 1 Axes>"
      ]
     },
     "metadata": {},
     "output_type": "display_data"
    }
   ],
   "source": [
    "plot_conf_mat(conf_mat1)"
   ]
  },
  {
   "cell_type": "code",
   "execution_count": 44,
   "id": "63d20c30",
   "metadata": {},
   "outputs": [
    {
     "data": {
      "image/png": "[encoded data removed]",
      "text/plain": [
       "<Figure size 432x288 with 1 Axes>"
      ]
     },
     "metadata": {},
     "output_type": "display_data"
    }
   ],
   "source": [
    "# Plot ROC curve and calculate AUC metric\n",
    "plot_roc_curve(svc, x1_test, y1_test);"
   ]
  },
  {
   "cell_type": "code",
   "execution_count": 45,
   "id": "296c72ec",
   "metadata": {},
   "outputs": [
    {
     "name": "stderr",
     "output_type": "stream",
     "text": [
      "/Users/ahmadtambaya/Documents/projects/machinelearning/demo/env/lib/python3.9/site-packages/sklearn/svm/_base.py:985: ConvergenceWarning: Liblinear failed to converge, increase the number of iterations.\n",
      "  warnings.warn(\"Liblinear failed to converge, increase \"\n",
      "/Users/ahmadtambaya/Documents/projects/machinelearning/demo/env/lib/python3.9/site-packages/sklearn/svm/_base.py:985: ConvergenceWarning: Liblinear failed to converge, increase the number of iterations.\n",
      "  warnings.warn(\"Liblinear failed to converge, increase \"\n",
      "/Users/ahmadtambaya/Documents/projects/machinelearning/demo/env/lib/python3.9/site-packages/sklearn/svm/_base.py:985: ConvergenceWarning: Liblinear failed to converge, increase the number of iterations.\n",
      "  warnings.warn(\"Liblinear failed to converge, increase \"\n",
      "/Users/ahmadtambaya/Documents/projects/machinelearning/demo/env/lib/python3.9/site-packages/sklearn/svm/_base.py:985: ConvergenceWarning: Liblinear failed to converge, increase the number of iterations.\n",
      "  warnings.warn(\"Liblinear failed to converge, increase \"\n",
      "/Users/ahmadtambaya/Documents/projects/machinelearning/demo/env/lib/python3.9/site-packages/sklearn/svm/_base.py:985: ConvergenceWarning: Liblinear failed to converge, increase the number of iterations.\n",
      "  warnings.warn(\"Liblinear failed to converge, increase \"\n"
     ]
    },
    {
     "name": "stdout",
     "output_type": "stream",
     "text": [
      "Mean of Cross Validation:  0.7909444985394353\n"
     ]
    },
    {
     "name": "stderr",
     "output_type": "stream",
     "text": [
      "/Users/ahmadtambaya/Documents/projects/machinelearning/demo/env/lib/python3.9/site-packages/sklearn/svm/_base.py:985: ConvergenceWarning: Liblinear failed to converge, increase the number of iterations.\n",
      "  warnings.warn(\"Liblinear failed to converge, increase \"\n",
      "/Users/ahmadtambaya/Documents/projects/machinelearning/demo/env/lib/python3.9/site-packages/sklearn/svm/_base.py:985: ConvergenceWarning: Liblinear failed to converge, increase the number of iterations.\n",
      "  warnings.warn(\"Liblinear failed to converge, increase \"\n",
      "/Users/ahmadtambaya/Documents/projects/machinelearning/demo/env/lib/python3.9/site-packages/sklearn/svm/_base.py:985: ConvergenceWarning: Liblinear failed to converge, increase the number of iterations.\n",
      "  warnings.warn(\"Liblinear failed to converge, increase \"\n",
      "/Users/ahmadtambaya/Documents/projects/machinelearning/demo/env/lib/python3.9/site-packages/sklearn/svm/_base.py:985: ConvergenceWarning: Liblinear failed to converge, increase the number of iterations.\n",
      "  warnings.warn(\"Liblinear failed to converge, increase \"\n",
      "/Users/ahmadtambaya/Documents/projects/machinelearning/demo/env/lib/python3.9/site-packages/sklearn/svm/_base.py:985: ConvergenceWarning: Liblinear failed to converge, increase the number of iterations.\n",
      "  warnings.warn(\"Liblinear failed to converge, increase \"\n"
     ]
    },
    {
     "name": "stdout",
     "output_type": "stream",
     "text": [
      "Precision of Cross Validation:  0.7374891774891775\n"
     ]
    },
    {
     "name": "stderr",
     "output_type": "stream",
     "text": [
      "/Users/ahmadtambaya/Documents/projects/machinelearning/demo/env/lib/python3.9/site-packages/sklearn/svm/_base.py:985: ConvergenceWarning: Liblinear failed to converge, increase the number of iterations.\n",
      "  warnings.warn(\"Liblinear failed to converge, increase \"\n",
      "/Users/ahmadtambaya/Documents/projects/machinelearning/demo/env/lib/python3.9/site-packages/sklearn/svm/_base.py:985: ConvergenceWarning: Liblinear failed to converge, increase the number of iterations.\n",
      "  warnings.warn(\"Liblinear failed to converge, increase \"\n",
      "/Users/ahmadtambaya/Documents/projects/machinelearning/demo/env/lib/python3.9/site-packages/sklearn/svm/_base.py:985: ConvergenceWarning: Liblinear failed to converge, increase the number of iterations.\n",
      "  warnings.warn(\"Liblinear failed to converge, increase \"\n",
      "/Users/ahmadtambaya/Documents/projects/machinelearning/demo/env/lib/python3.9/site-packages/sklearn/svm/_base.py:985: ConvergenceWarning: Liblinear failed to converge, increase the number of iterations.\n",
      "  warnings.warn(\"Liblinear failed to converge, increase \"\n",
      "/Users/ahmadtambaya/Documents/projects/machinelearning/demo/env/lib/python3.9/site-packages/sklearn/svm/_base.py:985: ConvergenceWarning: Liblinear failed to converge, increase the number of iterations.\n",
      "  warnings.warn(\"Liblinear failed to converge, increase \"\n"
     ]
    },
    {
     "name": "stdout",
     "output_type": "stream",
     "text": [
      "Recall of Cross Validation:  0.5461538461538462\n"
     ]
    },
    {
     "name": "stderr",
     "output_type": "stream",
     "text": [
      "/Users/ahmadtambaya/Documents/projects/machinelearning/demo/env/lib/python3.9/site-packages/sklearn/svm/_base.py:985: ConvergenceWarning: Liblinear failed to converge, increase the number of iterations.\n",
      "  warnings.warn(\"Liblinear failed to converge, increase \"\n",
      "/Users/ahmadtambaya/Documents/projects/machinelearning/demo/env/lib/python3.9/site-packages/sklearn/svm/_base.py:985: ConvergenceWarning: Liblinear failed to converge, increase the number of iterations.\n",
      "  warnings.warn(\"Liblinear failed to converge, increase \"\n",
      "/Users/ahmadtambaya/Documents/projects/machinelearning/demo/env/lib/python3.9/site-packages/sklearn/svm/_base.py:985: ConvergenceWarning: Liblinear failed to converge, increase the number of iterations.\n",
      "  warnings.warn(\"Liblinear failed to converge, increase \"\n",
      "/Users/ahmadtambaya/Documents/projects/machinelearning/demo/env/lib/python3.9/site-packages/sklearn/svm/_base.py:985: ConvergenceWarning: Liblinear failed to converge, increase the number of iterations.\n",
      "  warnings.warn(\"Liblinear failed to converge, increase \"\n"
     ]
    },
    {
     "name": "stdout",
     "output_type": "stream",
     "text": [
      "Recall of Cross Validation:  0.6226950354609928\n"
     ]
    },
    {
     "name": "stderr",
     "output_type": "stream",
     "text": [
      "/Users/ahmadtambaya/Documents/projects/machinelearning/demo/env/lib/python3.9/site-packages/sklearn/svm/_base.py:985: ConvergenceWarning: Liblinear failed to converge, increase the number of iterations.\n",
      "  warnings.warn(\"Liblinear failed to converge, increase \"\n"
     ]
    }
   ],
   "source": [
    "# Cross validation\n",
    "from sklearn.model_selection import cross_val_score\n",
    "qq = cross_val_score(svc, x1, y1)\n",
    "\n",
    "# Mean of cross validation\n",
    "svc_cross_val_score = np.mean(qq)\n",
    "print(\"Mean of Cross Validation: \", svc_cross_val_score)\n",
    "\n",
    "# Cross-validated precision score\n",
    "svc_cv_precision = np.mean(cross_val_score(svc,\n",
    "                                       x1,\n",
    "                                       y1,\n",
    "                                       cv=5, # 5-fold cross-validation\n",
    "                                       scoring=\"precision\")) # precision as scoring\n",
    "\n",
    "print(\"Precision of Cross Validation: \",svc_cv_precision )\n",
    "\n",
    "# Cross-validated recall score\n",
    "svc_cv_recall = np.mean(cross_val_score(svc,\n",
    "                                    x1,\n",
    "                                    y1,\n",
    "                                    cv=5, # 5-fold cross-validation\n",
    "                                    scoring=\"recall\")) # recall as scoring\n",
    "\n",
    "print(\"Recall of Cross Validation: \",svc_cv_recall )\n",
    "\n",
    "# Cross-validated F1 score\n",
    "svc_cv_f1 = np.mean(cross_val_score(svc,\n",
    "                                x1,\n",
    "                                y1,\n",
    "                                cv=5, # 5-fold cross-validation\n",
    "                                scoring=\"f1\")) # f1 as scoring\n",
    "\n",
    "print(\"Recall of Cross Validation: \",svc_cv_f1 )"
   ]
  },
  {
   "cell_type": "code",
   "execution_count": 46,
   "id": "92d7908d",
   "metadata": {},
   "outputs": [
    {
     "data": {
      "image/png": "[encoded data removed]",
      "text/plain": [
       "<Figure size 432x288 with 1 Axes>"
      ]
     },
     "metadata": {},
     "output_type": "display_data"
    }
   ],
   "source": [
    "# Visualizing cross-validated metrics\n",
    "svc_cv_metrics = pd.DataFrame({\"Accuracy\": svc_cross_val_score,\n",
    "                            \"Precision\": svc_cv_precision,\n",
    "                            \"Recall\": svc_cv_recall,\n",
    "                            \"F1\": svc_cv_f1},\n",
    "                          index=[0])\n",
    "svc_cv_metrics.T.plot.bar(title=\"Cross-Validated Metrics\", legend=False);"
   ]
  },
  {
   "cell_type": "markdown",
   "id": "7e062e49",
   "metadata": {},
   "source": [
    "# 3. LogisticRegression"
   ]
  },
  {
   "cell_type": "code",
   "execution_count": 47,
   "id": "9728db8f",
   "metadata": {},
   "outputs": [
    {
     "name": "stderr",
     "output_type": "stream",
     "text": [
      "/Users/ahmadtambaya/Documents/projects/machinelearning/demo/env/lib/python3.9/site-packages/sklearn/linear_model/_logistic.py:763: ConvergenceWarning: lbfgs failed to converge (status=1):\n",
      "STOP: TOTAL NO. of ITERATIONS REACHED LIMIT.\n",
      "\n",
      "Increase the number of iterations (max_iter) or scale the data as shown in:\n",
      "    https://scikit-learn.org/stable/modules/preprocessing.html\n",
      "Please also refer to the documentation for alternative solver options:\n",
      "    https://scikit-learn.org/stable/modules/linear_model.html#logistic-regression\n",
      "  n_iter_i = _check_optimize_result(\n"
     ]
    },
    {
     "data": {
      "text/plain": [
       "0.7468354430379747"
      ]
     },
     "execution_count": 47,
     "metadata": {},
     "output_type": "execute_result"
    }
   ],
   "source": [
    "np.random.seed(12)\n",
    "\n",
    "# Setting Data\n",
    "x2 = x\n",
    "y2 = y\n",
    "\n",
    "# split data\n",
    "\n",
    "x2_train, x2_test, y2_train, y2_test = train_test_split(x2,y2, test_size=0.2)\n",
    "\n",
    "#LogisticRegression \n",
    "\n",
    "lr = LogisticRegression()\n",
    "lr.fit(x2_train, y2_train)\n",
    "\n",
    "# Evaluating the LogisticRegression\n",
    "three=lr.score(x2_test, y2_test)\n",
    "three"
   ]
  },
  {
   "cell_type": "code",
   "execution_count": 48,
   "id": "29e8eb6a",
   "metadata": {},
   "outputs": [
    {
     "name": "stdout",
     "output_type": "stream",
     "text": [
      "              precision    recall  f1-score   support\n",
      "\n",
      "           0       0.78      0.89      0.83        56\n",
      "           1       0.60      0.39      0.47        23\n",
      "\n",
      "    accuracy                           0.75        79\n",
      "   macro avg       0.69      0.64      0.65        79\n",
      "weighted avg       0.73      0.75      0.73        79\n",
      "\n",
      "Accuracy score:  0.7468354430379747\n"
     ]
    }
   ],
   "source": [
    "# Model Evaluation \n",
    "y2_preds = lr.predict(x2_test)\n",
    "y2_preds\n",
    "\n",
    "print(classification_report(y2_test, y2_preds))\n",
    "\n",
    "print(\"Accuracy score: \",accuracy_score(y2_test, y2_preds))"
   ]
  },
  {
   "cell_type": "code",
   "execution_count": 49,
   "id": "6354047b",
   "metadata": {},
   "outputs": [
    {
     "data": {
      "text/html": [
       "<div>\n",
       "<style scoped>\n",
       "    .dataframe tbody tr th:only-of-type {\n",
       "        vertical-align: middle;\n",
       "    }\n",
       "\n",
       "    .dataframe tbody tr th {\n",
       "        vertical-align: top;\n",
       "    }\n",
       "\n",
       "    .dataframe thead th {\n",
       "        text-align: right;\n",
       "    }\n",
       "</style>\n",
       "<table border=\"1\" class=\"dataframe\">\n",
       "  <thead>\n",
       "    <tr style=\"text-align: right;\">\n",
       "      <th>Predicted Labels</th>\n",
       "      <th>0</th>\n",
       "      <th>1</th>\n",
       "    </tr>\n",
       "    <tr>\n",
       "      <th>Actual Labels</th>\n",
       "      <th></th>\n",
       "      <th></th>\n",
       "    </tr>\n",
       "  </thead>\n",
       "  <tbody>\n",
       "    <tr>\n",
       "      <th>0</th>\n",
       "      <td>50</td>\n",
       "      <td>6</td>\n",
       "    </tr>\n",
       "    <tr>\n",
       "      <th>1</th>\n",
       "      <td>14</td>\n",
       "      <td>9</td>\n",
       "    </tr>\n",
       "  </tbody>\n",
       "</table>\n",
       "</div>"
      ],
      "text/plain": [
       "Predicted Labels   0  1\n",
       "Actual Labels          \n",
       "0                 50  6\n",
       "1                 14  9"
      ]
     },
     "execution_count": 49,
     "metadata": {},
     "output_type": "execute_result"
    }
   ],
   "source": [
    "pd.crosstab(y2_test, y2_preds, rownames=[\"Actual Labels\"], colnames=[\"Predicted Labels\"])"
   ]
  },
  {
   "cell_type": "code",
   "execution_count": 50,
   "id": "1ee16122",
   "metadata": {},
   "outputs": [
    {
     "data": {
      "image/png": "[encoded data removed]",
      "text/plain": [
       "<Figure size 432x288 with 2 Axes>"
      ]
     },
     "metadata": {},
     "output_type": "display_data"
    }
   ],
   "source": [
    "sns.set(font_scale=1.5)\n",
    "\n",
    "conf_mat2 = confusion_matrix(y2_test, y2_preds)\n",
    "\n",
    "sns.heatmap(conf_mat2);"
   ]
  },
  {
   "cell_type": "code",
   "execution_count": 51,
   "id": "79964859",
   "metadata": {},
   "outputs": [
    {
     "data": {
      "image/png": "[encoded data removed]",
      "text/plain": [
       "<Figure size 216x216 with 1 Axes>"
      ]
     },
     "metadata": {},
     "output_type": "display_data"
    }
   ],
   "source": [
    "plot_conf_mat(conf_mat2)"
   ]
  },
  {
   "cell_type": "code",
   "execution_count": 52,
   "id": "5910d979",
   "metadata": {},
   "outputs": [
    {
     "data": {
      "image/png": "[encoded data removed]",
      "text/plain": [
       "<Figure size 432x288 with 1 Axes>"
      ]
     },
     "metadata": {},
     "output_type": "display_data"
    }
   ],
   "source": [
    "# Plot ROC curve and calculate AUC metric\n",
    "plot_roc_curve(lr, x2_test, y2_test);"
   ]
  },
  {
   "cell_type": "code",
   "execution_count": 53,
   "id": "788d59df",
   "metadata": {},
   "outputs": [
    {
     "name": "stderr",
     "output_type": "stream",
     "text": [
      "/Users/ahmadtambaya/Documents/projects/machinelearning/demo/env/lib/python3.9/site-packages/sklearn/linear_model/_logistic.py:763: ConvergenceWarning: lbfgs failed to converge (status=1):\n",
      "STOP: TOTAL NO. of ITERATIONS REACHED LIMIT.\n",
      "\n",
      "Increase the number of iterations (max_iter) or scale the data as shown in:\n",
      "    https://scikit-learn.org/stable/modules/preprocessing.html\n",
      "Please also refer to the documentation for alternative solver options:\n",
      "    https://scikit-learn.org/stable/modules/linear_model.html#logistic-regression\n",
      "  n_iter_i = _check_optimize_result(\n",
      "/Users/ahmadtambaya/Documents/projects/machinelearning/demo/env/lib/python3.9/site-packages/sklearn/linear_model/_logistic.py:763: ConvergenceWarning: lbfgs failed to converge (status=1):\n",
      "STOP: TOTAL NO. of ITERATIONS REACHED LIMIT.\n",
      "\n",
      "Increase the number of iterations (max_iter) or scale the data as shown in:\n",
      "    https://scikit-learn.org/stable/modules/preprocessing.html\n",
      "Please also refer to the documentation for alternative solver options:\n",
      "    https://scikit-learn.org/stable/modules/linear_model.html#logistic-regression\n",
      "  n_iter_i = _check_optimize_result(\n",
      "/Users/ahmadtambaya/Documents/projects/machinelearning/demo/env/lib/python3.9/site-packages/sklearn/linear_model/_logistic.py:763: ConvergenceWarning: lbfgs failed to converge (status=1):\n",
      "STOP: TOTAL NO. of ITERATIONS REACHED LIMIT.\n",
      "\n",
      "Increase the number of iterations (max_iter) or scale the data as shown in:\n",
      "    https://scikit-learn.org/stable/modules/preprocessing.html\n",
      "Please also refer to the documentation for alternative solver options:\n",
      "    https://scikit-learn.org/stable/modules/linear_model.html#logistic-regression\n",
      "  n_iter_i = _check_optimize_result(\n",
      "/Users/ahmadtambaya/Documents/projects/machinelearning/demo/env/lib/python3.9/site-packages/sklearn/linear_model/_logistic.py:763: ConvergenceWarning: lbfgs failed to converge (status=1):\n",
      "STOP: TOTAL NO. of ITERATIONS REACHED LIMIT.\n",
      "\n",
      "Increase the number of iterations (max_iter) or scale the data as shown in:\n",
      "    https://scikit-learn.org/stable/modules/preprocessing.html\n",
      "Please also refer to the documentation for alternative solver options:\n",
      "    https://scikit-learn.org/stable/modules/linear_model.html#logistic-regression\n",
      "  n_iter_i = _check_optimize_result(\n",
      "/Users/ahmadtambaya/Documents/projects/machinelearning/demo/env/lib/python3.9/site-packages/sklearn/linear_model/_logistic.py:763: ConvergenceWarning: lbfgs failed to converge (status=1):\n",
      "STOP: TOTAL NO. of ITERATIONS REACHED LIMIT.\n",
      "\n",
      "Increase the number of iterations (max_iter) or scale the data as shown in:\n",
      "    https://scikit-learn.org/stable/modules/preprocessing.html\n",
      "Please also refer to the documentation for alternative solver options:\n",
      "    https://scikit-learn.org/stable/modules/linear_model.html#logistic-regression\n",
      "  n_iter_i = _check_optimize_result(\n",
      "/Users/ahmadtambaya/Documents/projects/machinelearning/demo/env/lib/python3.9/site-packages/sklearn/linear_model/_logistic.py:763: ConvergenceWarning: lbfgs failed to converge (status=1):\n",
      "STOP: TOTAL NO. of ITERATIONS REACHED LIMIT.\n",
      "\n",
      "Increase the number of iterations (max_iter) or scale the data as shown in:\n",
      "    https://scikit-learn.org/stable/modules/preprocessing.html\n",
      "Please also refer to the documentation for alternative solver options:\n",
      "    https://scikit-learn.org/stable/modules/linear_model.html#logistic-regression\n",
      "  n_iter_i = _check_optimize_result(\n",
      "/Users/ahmadtambaya/Documents/projects/machinelearning/demo/env/lib/python3.9/site-packages/sklearn/linear_model/_logistic.py:763: ConvergenceWarning: lbfgs failed to converge (status=1):\n",
      "STOP: TOTAL NO. of ITERATIONS REACHED LIMIT.\n",
      "\n",
      "Increase the number of iterations (max_iter) or scale the data as shown in:\n",
      "    https://scikit-learn.org/stable/modules/preprocessing.html\n",
      "Please also refer to the documentation for alternative solver options:\n",
      "    https://scikit-learn.org/stable/modules/linear_model.html#logistic-regression\n",
      "  n_iter_i = _check_optimize_result(\n",
      "/Users/ahmadtambaya/Documents/projects/machinelearning/demo/env/lib/python3.9/site-packages/sklearn/linear_model/_logistic.py:763: ConvergenceWarning: lbfgs failed to converge (status=1):\n",
      "STOP: TOTAL NO. of ITERATIONS REACHED LIMIT.\n",
      "\n",
      "Increase the number of iterations (max_iter) or scale the data as shown in:\n",
      "    https://scikit-learn.org/stable/modules/preprocessing.html\n",
      "Please also refer to the documentation for alternative solver options:\n",
      "    https://scikit-learn.org/stable/modules/linear_model.html#logistic-regression\n",
      "  n_iter_i = _check_optimize_result(\n",
      "/Users/ahmadtambaya/Documents/projects/machinelearning/demo/env/lib/python3.9/site-packages/sklearn/linear_model/_logistic.py:763: ConvergenceWarning: lbfgs failed to converge (status=1):\n",
      "STOP: TOTAL NO. of ITERATIONS REACHED LIMIT.\n",
      "\n",
      "Increase the number of iterations (max_iter) or scale the data as shown in:\n",
      "    https://scikit-learn.org/stable/modules/preprocessing.html\n",
      "Please also refer to the documentation for alternative solver options:\n",
      "    https://scikit-learn.org/stable/modules/linear_model.html#logistic-regression\n",
      "  n_iter_i = _check_optimize_result(\n",
      "/Users/ahmadtambaya/Documents/projects/machinelearning/demo/env/lib/python3.9/site-packages/sklearn/linear_model/_logistic.py:763: ConvergenceWarning: lbfgs failed to converge (status=1):\n",
      "STOP: TOTAL NO. of ITERATIONS REACHED LIMIT.\n",
      "\n",
      "Increase the number of iterations (max_iter) or scale the data as shown in:\n",
      "    https://scikit-learn.org/stable/modules/preprocessing.html\n",
      "Please also refer to the documentation for alternative solver options:\n",
      "    https://scikit-learn.org/stable/modules/linear_model.html#logistic-regression\n",
      "  n_iter_i = _check_optimize_result(\n",
      "/Users/ahmadtambaya/Documents/projects/machinelearning/demo/env/lib/python3.9/site-packages/sklearn/linear_model/_logistic.py:763: ConvergenceWarning: lbfgs failed to converge (status=1):\n",
      "STOP: TOTAL NO. of ITERATIONS REACHED LIMIT.\n",
      "\n",
      "Increase the number of iterations (max_iter) or scale the data as shown in:\n",
      "    https://scikit-learn.org/stable/modules/preprocessing.html\n",
      "Please also refer to the documentation for alternative solver options:\n",
      "    https://scikit-learn.org/stable/modules/linear_model.html#logistic-regression\n",
      "  n_iter_i = _check_optimize_result(\n",
      "/Users/ahmadtambaya/Documents/projects/machinelearning/demo/env/lib/python3.9/site-packages/sklearn/linear_model/_logistic.py:763: ConvergenceWarning: lbfgs failed to converge (status=1):\n",
      "STOP: TOTAL NO. of ITERATIONS REACHED LIMIT.\n",
      "\n",
      "Increase the number of iterations (max_iter) or scale the data as shown in:\n",
      "    https://scikit-learn.org/stable/modules/preprocessing.html\n",
      "Please also refer to the documentation for alternative solver options:\n",
      "    https://scikit-learn.org/stable/modules/linear_model.html#logistic-regression\n",
      "  n_iter_i = _check_optimize_result(\n",
      "/Users/ahmadtambaya/Documents/projects/machinelearning/demo/env/lib/python3.9/site-packages/sklearn/linear_model/_logistic.py:763: ConvergenceWarning: lbfgs failed to converge (status=1):\n",
      "STOP: TOTAL NO. of ITERATIONS REACHED LIMIT.\n",
      "\n",
      "Increase the number of iterations (max_iter) or scale the data as shown in:\n",
      "    https://scikit-learn.org/stable/modules/preprocessing.html\n",
      "Please also refer to the documentation for alternative solver options:\n",
      "    https://scikit-learn.org/stable/modules/linear_model.html#logistic-regression\n",
      "  n_iter_i = _check_optimize_result(\n",
      "/Users/ahmadtambaya/Documents/projects/machinelearning/demo/env/lib/python3.9/site-packages/sklearn/linear_model/_logistic.py:763: ConvergenceWarning: lbfgs failed to converge (status=1):\n",
      "STOP: TOTAL NO. of ITERATIONS REACHED LIMIT.\n",
      "\n",
      "Increase the number of iterations (max_iter) or scale the data as shown in:\n",
      "    https://scikit-learn.org/stable/modules/preprocessing.html\n",
      "Please also refer to the documentation for alternative solver options:\n",
      "    https://scikit-learn.org/stable/modules/linear_model.html#logistic-regression\n",
      "  n_iter_i = _check_optimize_result(\n",
      "/Users/ahmadtambaya/Documents/projects/machinelearning/demo/env/lib/python3.9/site-packages/sklearn/linear_model/_logistic.py:763: ConvergenceWarning: lbfgs failed to converge (status=1):\n",
      "STOP: TOTAL NO. of ITERATIONS REACHED LIMIT.\n",
      "\n",
      "Increase the number of iterations (max_iter) or scale the data as shown in:\n",
      "    https://scikit-learn.org/stable/modules/preprocessing.html\n",
      "Please also refer to the documentation for alternative solver options:\n",
      "    https://scikit-learn.org/stable/modules/linear_model.html#logistic-regression\n",
      "  n_iter_i = _check_optimize_result(\n",
      "/Users/ahmadtambaya/Documents/projects/machinelearning/demo/env/lib/python3.9/site-packages/sklearn/linear_model/_logistic.py:763: ConvergenceWarning: lbfgs failed to converge (status=1):\n",
      "STOP: TOTAL NO. of ITERATIONS REACHED LIMIT.\n",
      "\n",
      "Increase the number of iterations (max_iter) or scale the data as shown in:\n",
      "    https://scikit-learn.org/stable/modules/preprocessing.html\n",
      "Please also refer to the documentation for alternative solver options:\n",
      "    https://scikit-learn.org/stable/modules/linear_model.html#logistic-regression\n",
      "  n_iter_i = _check_optimize_result(\n",
      "/Users/ahmadtambaya/Documents/projects/machinelearning/demo/env/lib/python3.9/site-packages/sklearn/linear_model/_logistic.py:763: ConvergenceWarning: lbfgs failed to converge (status=1):\n",
      "STOP: TOTAL NO. of ITERATIONS REACHED LIMIT.\n",
      "\n",
      "Increase the number of iterations (max_iter) or scale the data as shown in:\n",
      "    https://scikit-learn.org/stable/modules/preprocessing.html\n",
      "Please also refer to the documentation for alternative solver options:\n",
      "    https://scikit-learn.org/stable/modules/linear_model.html#logistic-regression\n",
      "  n_iter_i = _check_optimize_result(\n"
     ]
    },
    {
     "name": "stdout",
     "output_type": "stream",
     "text": [
      "Mean of Cross Validation:  0.7756572541382668\n",
      "Precision of Cross Validation:  0.703595238095238\n",
      "Recall of Cross Validation:  0.5615384615384615\n",
      "Recall of Cross Validation:  0.6217414625424638\n"
     ]
    },
    {
     "name": "stderr",
     "output_type": "stream",
     "text": [
      "/Users/ahmadtambaya/Documents/projects/machinelearning/demo/env/lib/python3.9/site-packages/sklearn/linear_model/_logistic.py:763: ConvergenceWarning: lbfgs failed to converge (status=1):\n",
      "STOP: TOTAL NO. of ITERATIONS REACHED LIMIT.\n",
      "\n",
      "Increase the number of iterations (max_iter) or scale the data as shown in:\n",
      "    https://scikit-learn.org/stable/modules/preprocessing.html\n",
      "Please also refer to the documentation for alternative solver options:\n",
      "    https://scikit-learn.org/stable/modules/linear_model.html#logistic-regression\n",
      "  n_iter_i = _check_optimize_result(\n",
      "/Users/ahmadtambaya/Documents/projects/machinelearning/demo/env/lib/python3.9/site-packages/sklearn/linear_model/_logistic.py:763: ConvergenceWarning: lbfgs failed to converge (status=1):\n",
      "STOP: TOTAL NO. of ITERATIONS REACHED LIMIT.\n",
      "\n",
      "Increase the number of iterations (max_iter) or scale the data as shown in:\n",
      "    https://scikit-learn.org/stable/modules/preprocessing.html\n",
      "Please also refer to the documentation for alternative solver options:\n",
      "    https://scikit-learn.org/stable/modules/linear_model.html#logistic-regression\n",
      "  n_iter_i = _check_optimize_result(\n",
      "/Users/ahmadtambaya/Documents/projects/machinelearning/demo/env/lib/python3.9/site-packages/sklearn/linear_model/_logistic.py:763: ConvergenceWarning: lbfgs failed to converge (status=1):\n",
      "STOP: TOTAL NO. of ITERATIONS REACHED LIMIT.\n",
      "\n",
      "Increase the number of iterations (max_iter) or scale the data as shown in:\n",
      "    https://scikit-learn.org/stable/modules/preprocessing.html\n",
      "Please also refer to the documentation for alternative solver options:\n",
      "    https://scikit-learn.org/stable/modules/linear_model.html#logistic-regression\n",
      "  n_iter_i = _check_optimize_result(\n"
     ]
    }
   ],
   "source": [
    "# Cross validation\n",
    "from sklearn.model_selection import cross_val_score\n",
    "ee = cross_val_score(lr, x2, y2)\n",
    "\n",
    "# Mean of cross validation\n",
    "lr_cross_val_score = np.mean(ee)\n",
    "print(\"Mean of Cross Validation: \", lr_cross_val_score)\n",
    "\n",
    "# Cross-validated precision score\n",
    "lr_cv_precision = np.mean(cross_val_score(lr,\n",
    "                                       x2,\n",
    "                                       y2,\n",
    "                                       cv=5, # 5-fold cross-validation\n",
    "                                       scoring=\"precision\")) # precision as scoring\n",
    "\n",
    "print(\"Precision of Cross Validation: \",lr_cv_precision )\n",
    "\n",
    "# Cross-validated recall score\n",
    "lr_cv_recall = np.mean(cross_val_score(lr,\n",
    "                                    x2,\n",
    "                                    y2,\n",
    "                                    cv=5, # 5-fold cross-validation\n",
    "                                    scoring=\"recall\")) # recall as scoring\n",
    "\n",
    "print(\"Recall of Cross Validation: \",lr_cv_recall )\n",
    "\n",
    "# Cross-validated F1 score\n",
    "lr_cv_f1 = np.mean(cross_val_score(lr,\n",
    "                                x2,\n",
    "                                y2,\n",
    "                                cv=5, # 5-fold cross-validation\n",
    "                                scoring=\"f1\")) # f1 as scoring\n",
    "\n",
    "print(\"Recall of Cross Validation: \",lr_cv_f1 )"
   ]
  },
  {
   "cell_type": "code",
   "execution_count": 54,
   "id": "552f74c0",
   "metadata": {},
   "outputs": [
    {
     "data": {
      "image/png": "[encoded data removed]",
      "text/plain": [
       "<Figure size 432x288 with 1 Axes>"
      ]
     },
     "metadata": {},
     "output_type": "display_data"
    }
   ],
   "source": [
    "# Visualizing cross-validated metrics\n",
    "lr_cv_metrics = pd.DataFrame({\"Accuracy\": lr_cross_val_score,\n",
    "                            \"Precision\": lr_cv_precision,\n",
    "                            \"Recall\": lr_cv_recall,\n",
    "                            \"F1\": lr_cv_f1},\n",
    "                          index=[0])\n",
    "lr_cv_metrics.T.plot.bar(title=\"Cross-Validated Metrics\", legend=False);"
   ]
  },
  {
   "cell_type": "code",
   "execution_count": 55,
   "id": "2623b33d",
   "metadata": {},
   "outputs": [
    {
     "name": "stdout",
     "output_type": "stream",
     "text": [
      "Fitting 5 folds for each of 20 candidates, totalling 100 fits\n"
     ]
    }
   ],
   "source": [
    "# Tuning LogisticRegression hyperparameters using RandomizedSearchCV\n",
    "\n",
    "# Different LogisticRegression hyperparameters\n",
    "lr_randomcv = {\"C\": np.logspace(-4, 4, 20),\n",
    "                \"solver\": [\"liblinear\"]}\n",
    "# Setup random seed\n",
    "np.random.seed(42)\n",
    "\n",
    "# Setup random hyperparameter search for LogisticRegression\n",
    "rs_lr = RandomizedSearchCV(LogisticRegression(),\n",
    "                                param_distributions=lr_randomcv,\n",
    "                                cv=5,\n",
    "                                n_iter=20,\n",
    "                                verbose=True)\n",
    "\n",
    "# Fit random hyperparameter search model\n",
    "rs_lr.fit(x2_train, y2_train);"
   ]
  },
  {
   "cell_type": "code",
   "execution_count": 56,
   "id": "b8f6e76b",
   "metadata": {},
   "outputs": [],
   "source": [
    "# rs_lr.best_params_"
   ]
  },
  {
   "cell_type": "code",
   "execution_count": 57,
   "id": "54e05380",
   "metadata": {},
   "outputs": [
    {
     "name": "stdout",
     "output_type": "stream",
     "text": [
      "Fitting 5 folds for each of 20 candidates, totalling 100 fits\n",
      "Fitting 5 folds for each of 20 candidates, totalling 100 fits\n",
      "Fitting 5 folds for each of 20 candidates, totalling 100 fits\n",
      "Fitting 5 folds for each of 20 candidates, totalling 100 fits\n",
      "Fitting 5 folds for each of 20 candidates, totalling 100 fits\n",
      "Accuracy of Cross Validation:  0.7858162934112302\n",
      "Fitting 5 folds for each of 20 candidates, totalling 100 fits\n",
      "Fitting 5 folds for each of 20 candidates, totalling 100 fits\n",
      "Fitting 5 folds for each of 20 candidates, totalling 100 fits\n",
      "Fitting 5 folds for each of 20 candidates, totalling 100 fits\n",
      "Fitting 5 folds for each of 20 candidates, totalling 100 fits\n",
      "Precision of Cross Validation:  0.7303745529832486\n",
      "Fitting 5 folds for each of 20 candidates, totalling 100 fits\n",
      "Fitting 5 folds for each of 20 candidates, totalling 100 fits\n",
      "Fitting 5 folds for each of 20 candidates, totalling 100 fits\n",
      "Fitting 5 folds for each of 20 candidates, totalling 100 fits\n",
      "Fitting 5 folds for each of 20 candidates, totalling 100 fits\n",
      "Recall of Cross Validation:  0.5615384615384615\n",
      "Fitting 5 folds for each of 20 candidates, totalling 100 fits\n",
      "Fitting 5 folds for each of 20 candidates, totalling 100 fits\n",
      "Fitting 5 folds for each of 20 candidates, totalling 100 fits\n",
      "Fitting 5 folds for each of 20 candidates, totalling 100 fits\n",
      "Fitting 5 folds for each of 20 candidates, totalling 100 fits\n",
      "Recall of Cross Validation:  0.6307500613566426\n"
     ]
    }
   ],
   "source": [
    "# Evaluate the randomized search random forest model\n",
    "pp = cross_val_score(rs_lr, x2, y2)\n",
    "\n",
    "# Mean of cross validation\n",
    "rs_lr_cross_val_score = np.mean(pp)\n",
    "print(\"Accuracy of Cross Validation: \", rs_lr_cross_val_score)\n",
    "\n",
    "# Cross-validated precision score\n",
    "rs_lr_cv_precision = np.mean(cross_val_score(rs_lr,\n",
    "                                       x2,\n",
    "                                       y2,\n",
    "                                       cv=5, # 5-fold cross-validation\n",
    "                                       scoring=\"precision\")) # precision as scoring\n",
    "\n",
    "print(\"Precision of Cross Validation: \",rs_lr_cv_precision )\n",
    "\n",
    "# Cross-validated recall score\n",
    "rs_lr_cv_recall = np.mean(cross_val_score(rs_lr,\n",
    "                                    x2,\n",
    "                                    y2,\n",
    "                                    cv=5, # 5-fold cross-validation\n",
    "                                    scoring=\"recall\")) # recall as scoring\n",
    "\n",
    "print(\"Recall of Cross Validation: \",rs_lr_cv_recall )\n",
    "\n",
    "# Cross-validated F1 score\n",
    "rs_lr_cv_f1 = np.mean(cross_val_score(rs_lr,\n",
    "                                x2,\n",
    "                                y2,\n",
    "                                cv=5, # 5-fold cross-validation\n",
    "                                scoring=\"f1\")) # f1 as scoring\n",
    "\n",
    "print(\"Recall of Cross Validation: \",rs_lr_cv_f1 )"
   ]
  },
  {
   "cell_type": "code",
   "execution_count": 58,
   "id": "0f5b00a2",
   "metadata": {},
   "outputs": [
    {
     "data": {
      "image/png": "[encoded data removed]",
      "text/plain": [
       "<Figure size 432x288 with 1 Axes>"
      ]
     },
     "metadata": {},
     "output_type": "display_data"
    }
   ],
   "source": [
    "# Visualizing cross-validated metrics\n",
    "rs_lr_cv_metrics = pd.DataFrame({\"Accuracy\": lr_cross_val_score,\n",
    "                            \"Precision\": rs_lr_cv_precision,\n",
    "                            \"Recall\": rs_lr_cv_recall,\n",
    "                            \"F1\": rs_lr_cv_f1},\n",
    "                          index=[0])\n",
    "rs_lr_cv_metrics.T.plot.bar(title=\"Cross-Validated Metrics\", legend=False);"
   ]
  },
  {
   "cell_type": "code",
   "execution_count": 59,
   "id": "7c7c3e5d",
   "metadata": {},
   "outputs": [
    {
     "name": "stdout",
     "output_type": "stream",
     "text": [
      "Fitting 5 folds for each of 20 candidates, totalling 100 fits\n"
     ]
    }
   ],
   "source": [
    "# Tuning LogisticRegression hyperparameters using GridSearchCV\n",
    "# Different LogisticRegression hyperparameters\n",
    "lr_gridcv = {\"C\": np.logspace(-4, 4, 20),\n",
    "                \"solver\": [\"liblinear\"]}\n",
    "\n",
    "# Setup grid hyperparameter search for LogisticRegression\n",
    "gs_lr = GridSearchCV(LogisticRegression(),\n",
    "                          param_grid=lr_gridcv,\n",
    "                          cv=5,\n",
    "                          verbose=True)\n",
    "\n",
    "# Fit grid hyperparameter search model\n",
    "gs_lr.fit(x2_train, y2_train);"
   ]
  },
  {
   "cell_type": "code",
   "execution_count": 60,
   "id": "78c96f0d",
   "metadata": {},
   "outputs": [
    {
     "data": {
      "text/plain": [
       "{'C': 78.47599703514607, 'solver': 'liblinear'}"
      ]
     },
     "execution_count": 60,
     "metadata": {},
     "output_type": "execute_result"
    }
   ],
   "source": [
    "# Check the best parameters\n",
    "gs_lr.best_params_"
   ]
  },
  {
   "cell_type": "code",
   "execution_count": 61,
   "id": "76b99eeb",
   "metadata": {},
   "outputs": [
    {
     "name": "stdout",
     "output_type": "stream",
     "text": [
      "Fitting 5 folds for each of 20 candidates, totalling 100 fits\n",
      "Fitting 5 folds for each of 20 candidates, totalling 100 fits\n",
      "Fitting 5 folds for each of 20 candidates, totalling 100 fits\n",
      "Fitting 5 folds for each of 20 candidates, totalling 100 fits\n",
      "Fitting 5 folds for each of 20 candidates, totalling 100 fits\n",
      "Accuracy of Cross Validation:  0.7858162934112302\n",
      "Fitting 5 folds for each of 20 candidates, totalling 100 fits\n",
      "Fitting 5 folds for each of 20 candidates, totalling 100 fits\n",
      "Fitting 5 folds for each of 20 candidates, totalling 100 fits\n",
      "Fitting 5 folds for each of 20 candidates, totalling 100 fits\n",
      "Fitting 5 folds for each of 20 candidates, totalling 100 fits\n",
      "Precision of Cross Validation:  0.7303745529832486\n",
      "Fitting 5 folds for each of 20 candidates, totalling 100 fits\n",
      "Fitting 5 folds for each of 20 candidates, totalling 100 fits\n",
      "Fitting 5 folds for each of 20 candidates, totalling 100 fits\n",
      "Fitting 5 folds for each of 20 candidates, totalling 100 fits\n",
      "Fitting 5 folds for each of 20 candidates, totalling 100 fits\n",
      "Recall of Cross Validation:  0.5615384615384615\n",
      "Fitting 5 folds for each of 20 candidates, totalling 100 fits\n",
      "Fitting 5 folds for each of 20 candidates, totalling 100 fits\n",
      "Fitting 5 folds for each of 20 candidates, totalling 100 fits\n",
      "Fitting 5 folds for each of 20 candidates, totalling 100 fits\n",
      "Fitting 5 folds for each of 20 candidates, totalling 100 fits\n",
      "Recall of Cross Validation:  0.6307500613566426\n"
     ]
    }
   ],
   "source": [
    "# Evaluate the GridSearchCV random forest model\n",
    "ll = cross_val_score(gs_lr, x2, y2)\n",
    "\n",
    "# Mean of cross validation\n",
    "gs_lr_cross_val_score = np.mean(ll)\n",
    "print(\"Accuracy of Cross Validation: \", gs_lr_cross_val_score)\n",
    "\n",
    "# Cross-validated precision score\n",
    "gs_lr_cv_precision = np.mean(cross_val_score(gs_lr,\n",
    "                                       x2,\n",
    "                                       y2,\n",
    "                                       cv=5, # 5-fold cross-validation\n",
    "                                       scoring=\"precision\")) # precision as scoring\n",
    "\n",
    "print(\"Precision of Cross Validation: \",gs_lr_cv_precision )\n",
    "\n",
    "# Cross-validated recall score\n",
    "gs_lr_cv_recall = np.mean(cross_val_score(gs_lr,\n",
    "                                    x2,\n",
    "                                    y2,\n",
    "                                    cv=5, # 5-fold cross-validation\n",
    "                                    scoring=\"recall\")) # recall as scoring\n",
    "\n",
    "print(\"Recall of Cross Validation: \",gs_lr_cv_recall )\n",
    "\n",
    "# Cross-validated F1 score\n",
    "gs_lr_cv_f1 = np.mean(cross_val_score(gs_lr,\n",
    "                                x2,\n",
    "                                y2,\n",
    "                                cv=5, # 5-fold cross-validation\n",
    "                                scoring=\"f1\")) # f1 as scoring\n",
    "\n",
    "print(\"Recall of Cross Validation: \",gs_lr_cv_f1 )"
   ]
  },
  {
   "cell_type": "code",
   "execution_count": 62,
   "id": "3105ee0a",
   "metadata": {},
   "outputs": [
    {
     "data": {
      "image/png": "[encoded data removed]",
      "text/plain": [
       "<Figure size 432x288 with 1 Axes>"
      ]
     },
     "metadata": {},
     "output_type": "display_data"
    }
   ],
   "source": [
    "# Visualizing cross-validated metrics\n",
    "gs_lr_cv_metrics = pd.DataFrame({\"Accuracy\": gs_lr_cross_val_score,\n",
    "                            \"Precision\": gs_lr_cv_precision,\n",
    "                            \"Recall\": gs_lr_cv_recall,\n",
    "                            \"F1\": gs_lr_cv_f1},\n",
    "                          index=[0])\n",
    "gs_lr_cv_metrics.T.plot.bar(title=\"Cross-Validated Metrics\", legend=False);"
   ]
  },
  {
   "cell_type": "markdown",
   "id": "e1eefc12",
   "metadata": {},
   "source": [
    "# 4. Support Vector Machines"
   ]
  },
  {
   "cell_type": "code",
   "execution_count": 63,
   "id": "3d98f5be",
   "metadata": {},
   "outputs": [
    {
     "data": {
      "text/plain": [
       "0.8227848101265823"
      ]
     },
     "execution_count": 63,
     "metadata": {},
     "output_type": "execute_result"
    }
   ],
   "source": [
    "np.random.seed(12)\n",
    "\n",
    "# Setting Data\n",
    "x3 = x\n",
    "y3 = y\n",
    "\n",
    "# split data\n",
    "\n",
    "x3_train, x3_test, y3_train, y3_test = train_test_split(x3,y3, test_size=0.2)\n",
    "\n",
    "#NearestNeighbors \n",
    "\n",
    "svm = svm.SVC()\n",
    "svm.fit(x3_train, y3_train)\n",
    "\n",
    "# Evaluating the NearestNeighbors\n",
    "four=svm.score(x3_test, y3_test)\n",
    "four"
   ]
  },
  {
   "cell_type": "code",
   "execution_count": 64,
   "id": "c090ca50",
   "metadata": {},
   "outputs": [
    {
     "name": "stdout",
     "output_type": "stream",
     "text": [
      "              precision    recall  f1-score   support\n",
      "\n",
      "           0       0.83      0.95      0.88        56\n",
      "           1       0.80      0.52      0.63        23\n",
      "\n",
      "    accuracy                           0.82        79\n",
      "   macro avg       0.81      0.73      0.76        79\n",
      "weighted avg       0.82      0.82      0.81        79\n",
      "\n",
      "Accuracy score:  0.8227848101265823\n"
     ]
    }
   ],
   "source": [
    "# Model Evaluation \n",
    "y3_preds = svm.predict(x3_test)\n",
    "y3_preds\n",
    "\n",
    "print(classification_report(y3_test, y3_preds))\n",
    "\n",
    "print(\"Accuracy score: \",accuracy_score(y3_test, y3_preds))"
   ]
  },
  {
   "cell_type": "code",
   "execution_count": 65,
   "id": "dc9e91af",
   "metadata": {},
   "outputs": [
    {
     "data": {
      "text/html": [
       "<div>\n",
       "<style scoped>\n",
       "    .dataframe tbody tr th:only-of-type {\n",
       "        vertical-align: middle;\n",
       "    }\n",
       "\n",
       "    .dataframe tbody tr th {\n",
       "        vertical-align: top;\n",
       "    }\n",
       "\n",
       "    .dataframe thead th {\n",
       "        text-align: right;\n",
       "    }\n",
       "</style>\n",
       "<table border=\"1\" class=\"dataframe\">\n",
       "  <thead>\n",
       "    <tr style=\"text-align: right;\">\n",
       "      <th>Predicted Labels</th>\n",
       "      <th>0</th>\n",
       "      <th>1</th>\n",
       "    </tr>\n",
       "    <tr>\n",
       "      <th>Actual Labels</th>\n",
       "      <th></th>\n",
       "      <th></th>\n",
       "    </tr>\n",
       "  </thead>\n",
       "  <tbody>\n",
       "    <tr>\n",
       "      <th>0</th>\n",
       "      <td>53</td>\n",
       "      <td>3</td>\n",
       "    </tr>\n",
       "    <tr>\n",
       "      <th>1</th>\n",
       "      <td>11</td>\n",
       "      <td>12</td>\n",
       "    </tr>\n",
       "  </tbody>\n",
       "</table>\n",
       "</div>"
      ],
      "text/plain": [
       "Predicted Labels   0   1\n",
       "Actual Labels           \n",
       "0                 53   3\n",
       "1                 11  12"
      ]
     },
     "execution_count": 65,
     "metadata": {},
     "output_type": "execute_result"
    }
   ],
   "source": [
    "pd.crosstab(y3_test, y3_preds, rownames=[\"Actual Labels\"], colnames=[\"Predicted Labels\"])"
   ]
  },
  {
   "cell_type": "code",
   "execution_count": 66,
   "id": "038533dc",
   "metadata": {},
   "outputs": [
    {
     "data": {
      "image/png": "[encoded data removed]",
      "text/plain": [
       "<Figure size 432x288 with 2 Axes>"
      ]
     },
     "metadata": {},
     "output_type": "display_data"
    }
   ],
   "source": [
    "sns.set(font_scale=1.5)\n",
    "\n",
    "conf_mat3 = confusion_matrix(y3_test, y3_preds)\n",
    "\n",
    "sns.heatmap(conf_mat3);"
   ]
  },
  {
   "cell_type": "code",
   "execution_count": 67,
   "id": "cf160faa",
   "metadata": {},
   "outputs": [
    {
     "data": {
      "image/png": "[encoded data removed]",
      "text/plain": [
       "<Figure size 216x216 with 1 Axes>"
      ]
     },
     "metadata": {},
     "output_type": "display_data"
    }
   ],
   "source": [
    "plot_conf_mat(conf_mat3)"
   ]
  },
  {
   "cell_type": "code",
   "execution_count": 68,
   "id": "c8fcee24",
   "metadata": {},
   "outputs": [
    {
     "data": {
      "image/png": "[encoded data removed]",
      "text/plain": [
       "<Figure size 432x288 with 1 Axes>"
      ]
     },
     "metadata": {},
     "output_type": "display_data"
    }
   ],
   "source": [
    "# Plot ROC curve and calculate AUC metric\n",
    "plot_roc_curve(svm, x3_test, y3_test);"
   ]
  },
  {
   "cell_type": "code",
   "execution_count": 69,
   "id": "77a8bab5",
   "metadata": {},
   "outputs": [
    {
     "name": "stdout",
     "output_type": "stream",
     "text": [
      "Mean of Cross Validation:  0.7731580655631288\n",
      "Precision of Cross Validation:  0.7610990712074304\n",
      "Recall of Cross Validation:  0.4769230769230769\n",
      "Recall of Cross Validation:  0.5733314829133541\n"
     ]
    }
   ],
   "source": [
    "# Cross validation\n",
    "from sklearn.model_selection import cross_val_score\n",
    "rr = cross_val_score(svm, x3, y3)\n",
    "\n",
    "# Mean of cross validation\n",
    "svm_cross_val_score = np.mean(rr)\n",
    "print(\"Mean of Cross Validation: \", svm_cross_val_score)\n",
    "\n",
    "# Cross-validated precision score\n",
    "svm_cv_precision = np.mean(cross_val_score(svm,\n",
    "                                       x3,\n",
    "                                       y3,\n",
    "                                       cv=5, # 5-fold cross-validation\n",
    "                                       scoring=\"precision\")) # precision as scoring\n",
    "\n",
    "print(\"Precision of Cross Validation: \",svm_cv_precision )\n",
    "\n",
    "# Cross-validated recall score\n",
    "svm_cv_recall = np.mean(cross_val_score(svm,\n",
    "                                    x3,\n",
    "                                    y3,\n",
    "                                    cv=5, # 5-fold cross-validation\n",
    "                                    scoring=\"recall\")) # recall as scoring\n",
    "\n",
    "print(\"Recall of Cross Validation: \",svm_cv_recall )\n",
    "\n",
    "# Cross-validated F1 score\n",
    "svm_cv_f1 = np.mean(cross_val_score(svm,\n",
    "                                x3,\n",
    "                                y3,\n",
    "                                cv=5, # 5-fold cross-validation\n",
    "                                scoring=\"f1\")) # f1 as scoring\n",
    "\n",
    "print(\"Recall of Cross Validation: \",svm_cv_f1 )"
   ]
  },
  {
   "cell_type": "code",
   "execution_count": 70,
   "id": "743a8f38",
   "metadata": {},
   "outputs": [
    {
     "data": {
      "image/png": "[encoded data removed]",
      "text/plain": [
       "<Figure size 432x288 with 1 Axes>"
      ]
     },
     "metadata": {},
     "output_type": "display_data"
    }
   ],
   "source": [
    "# Visualizing cross-validated metrics\n",
    "svm_cv_metrics = pd.DataFrame({\"Accuracy\": svm_cross_val_score,\n",
    "                            \"Precision\": svm_cv_precision,\n",
    "                            \"Recall\": svm_cv_recall,\n",
    "                            \"F1\": svm_cv_f1},\n",
    "                          index=[0])\n",
    "svm_cv_metrics.T.plot.bar(title=\"Cross-Validated Metrics\", legend=False);"
   ]
  },
  {
   "cell_type": "markdown",
   "id": "401f302c",
   "metadata": {},
   "source": [
    "# 5. KNeighborsClassifier"
   ]
  },
  {
   "cell_type": "code",
   "execution_count": 71,
   "id": "cf0c9e48",
   "metadata": {},
   "outputs": [
    {
     "data": {
      "text/plain": [
       "0.759493670886076"
      ]
     },
     "execution_count": 71,
     "metadata": {},
     "output_type": "execute_result"
    }
   ],
   "source": [
    "np.random.seed(12)\n",
    "\n",
    "# Setting Data\n",
    "x4 = x\n",
    "y4 = y\n",
    "\n",
    "# split data\n",
    "\n",
    "x4_train, x4_test, y4_train, y4_test = train_test_split(x4,y4, test_size=0.2)\n",
    "\n",
    "#NearestNeighbors \n",
    "\n",
    "knn = KNeighborsClassifier()\n",
    "knn.fit(x4_train, y4_train)\n",
    "\n",
    "# Evaluating the NearestNeighbors\n",
    "five=knn.score(x4_test, y4_test)\n",
    "five"
   ]
  },
  {
   "cell_type": "code",
   "execution_count": 72,
   "id": "21aa4c11",
   "metadata": {},
   "outputs": [
    {
     "name": "stdout",
     "output_type": "stream",
     "text": [
      "              precision    recall  f1-score   support\n",
      "\n",
      "           0       0.80      0.88      0.84        56\n",
      "           1       0.61      0.48      0.54        23\n",
      "\n",
      "    accuracy                           0.76        79\n",
      "   macro avg       0.71      0.68      0.69        79\n",
      "weighted avg       0.75      0.76      0.75        79\n",
      "\n",
      "Accuracy score:  0.759493670886076\n"
     ]
    }
   ],
   "source": [
    "# Model Evaluation \n",
    "y4_preds = knn.predict(x4_test)\n",
    "y4_preds\n",
    "\n",
    "print(classification_report(y4_test, y4_preds))\n",
    "\n",
    "print(\"Accuracy score: \",accuracy_score(y4_test, y4_preds))"
   ]
  },
  {
   "cell_type": "code",
   "execution_count": 73,
   "id": "940e33b7",
   "metadata": {},
   "outputs": [
    {
     "data": {
      "text/html": [
       "<div>\n",
       "<style scoped>\n",
       "    .dataframe tbody tr th:only-of-type {\n",
       "        vertical-align: middle;\n",
       "    }\n",
       "\n",
       "    .dataframe tbody tr th {\n",
       "        vertical-align: top;\n",
       "    }\n",
       "\n",
       "    .dataframe thead th {\n",
       "        text-align: right;\n",
       "    }\n",
       "</style>\n",
       "<table border=\"1\" class=\"dataframe\">\n",
       "  <thead>\n",
       "    <tr style=\"text-align: right;\">\n",
       "      <th>Predicted Labels</th>\n",
       "      <th>0</th>\n",
       "      <th>1</th>\n",
       "    </tr>\n",
       "    <tr>\n",
       "      <th>Actual Labels</th>\n",
       "      <th></th>\n",
       "      <th></th>\n",
       "    </tr>\n",
       "  </thead>\n",
       "  <tbody>\n",
       "    <tr>\n",
       "      <th>0</th>\n",
       "      <td>49</td>\n",
       "      <td>7</td>\n",
       "    </tr>\n",
       "    <tr>\n",
       "      <th>1</th>\n",
       "      <td>12</td>\n",
       "      <td>11</td>\n",
       "    </tr>\n",
       "  </tbody>\n",
       "</table>\n",
       "</div>"
      ],
      "text/plain": [
       "Predicted Labels   0   1\n",
       "Actual Labels           \n",
       "0                 49   7\n",
       "1                 12  11"
      ]
     },
     "execution_count": 73,
     "metadata": {},
     "output_type": "execute_result"
    }
   ],
   "source": [
    "pd.crosstab(y4_test, y4_preds, rownames=[\"Actual Labels\"], colnames=[\"Predicted Labels\"])"
   ]
  },
  {
   "cell_type": "code",
   "execution_count": 74,
   "id": "ae69268b",
   "metadata": {},
   "outputs": [
    {
     "data": {
      "image/png": "[encoded data removed]",
      "text/plain": [
       "<Figure size 432x288 with 2 Axes>"
      ]
     },
     "metadata": {},
     "output_type": "display_data"
    }
   ],
   "source": [
    "sns.set(font_scale=1.5)\n",
    "\n",
    "conf_mat4 = confusion_matrix(y4_test, y4_preds)\n",
    "\n",
    "sns.heatmap(conf_mat4);"
   ]
  },
  {
   "cell_type": "code",
   "execution_count": 75,
   "id": "2d618b63",
   "metadata": {},
   "outputs": [
    {
     "data": {
      "image/png": "[encoded data removed]",
      "text/plain": [
       "<Figure size 216x216 with 1 Axes>"
      ]
     },
     "metadata": {},
     "output_type": "display_data"
    }
   ],
   "source": [
    "plot_conf_mat(conf_mat4)"
   ]
  },
  {
   "cell_type": "code",
   "execution_count": 76,
   "id": "0711da87",
   "metadata": {},
   "outputs": [
    {
     "data": {
      "image/png": "[encoded data removed]",
      "text/plain": [
       "<Figure size 432x288 with 1 Axes>"
      ]
     },
     "metadata": {},
     "output_type": "display_data"
    }
   ],
   "source": [
    "# Plot ROC curve and calculate AUC metric\n",
    "plot_roc_curve(lr, x4_test, y4_test);"
   ]
  },
  {
   "cell_type": "code",
   "execution_count": 77,
   "id": "fdb1b934",
   "metadata": {},
   "outputs": [
    {
     "name": "stdout",
     "output_type": "stream",
     "text": [
      "Mean of Cross Validation:  0.7143459915611815\n",
      "Precision of Cross Validation:  0.5833345720302242\n",
      "Recall of Cross Validation:  0.49230769230769234\n",
      "Recall of Cross Validation:  0.5264054388083246\n"
     ]
    }
   ],
   "source": [
    "# Cross validation\n",
    "from sklearn.model_selection import cross_val_score\n",
    "tt = cross_val_score(knn, x4, y4)\n",
    "\n",
    "# Mean of cross validation\n",
    "knn_cross_val_score = np.mean(tt)\n",
    "print(\"Mean of Cross Validation: \", knn_cross_val_score)\n",
    "\n",
    "\n",
    "# Cross-validated precision score\n",
    "knn_cv_precision = np.mean(cross_val_score(knn,\n",
    "                                       x4,\n",
    "                                       y4,\n",
    "                                       cv=5, # 5-fold cross-validation\n",
    "                                       scoring=\"precision\")) # precision as scoring\n",
    "\n",
    "print(\"Precision of Cross Validation: \",knn_cv_precision )\n",
    "\n",
    "# Cross-validated recall score\n",
    "knn_cv_recall = np.mean(cross_val_score(knn,\n",
    "                                    x4,\n",
    "                                    y4,\n",
    "                                    cv=5, # 5-fold cross-validation\n",
    "                                    scoring=\"recall\")) # recall as scoring\n",
    "\n",
    "print(\"Recall of Cross Validation: \",knn_cv_recall )\n",
    "\n",
    "# Cross-validated F1 score\n",
    "knn_cv_f1 = np.mean(cross_val_score(knn,\n",
    "                                x4,\n",
    "                                y4,\n",
    "                                cv=5, # 5-fold cross-validation\n",
    "                                scoring=\"f1\")) # f1 as scoring\n",
    "\n",
    "print(\"Recall of Cross Validation: \",knn_cv_f1 )"
   ]
  },
  {
   "cell_type": "code",
   "execution_count": 78,
   "id": "017e9879",
   "metadata": {},
   "outputs": [
    {
     "data": {
      "image/png": "[encoded data removed]",
      "text/plain": [
       "<Figure size 432x288 with 1 Axes>"
      ]
     },
     "metadata": {},
     "output_type": "display_data"
    }
   ],
   "source": [
    "# Visualizing cross-validated metrics\n",
    "knn_cv_metrics = pd.DataFrame({\"Accuracy\": knn_cross_val_score,\n",
    "                            \"Precision\": knn_cv_precision,\n",
    "                            \"Recall\": knn_cv_recall,\n",
    "                            \"F1\": knn_cv_f1},\n",
    "                          index=[0])\n",
    "knn_cv_metrics.T.plot.bar(title=\"Cross-Validated Metrics\", legend=False);"
   ]
  },
  {
   "cell_type": "code",
   "execution_count": 79,
   "id": "108222d8",
   "metadata": {},
   "outputs": [],
   "source": [
    "# Tuning KNN model hyperparameters by hand.\n",
    "# Create a list of train scores\n",
    "train_scores4 = []\n",
    "\n",
    "# Create a list of test scores\n",
    "test_scores4 = []\n",
    "\n",
    "# Create a list of different values for n_neighbors\n",
    "neighbors = range(1, 21) # 1 to 20\n",
    "\n",
    "# Setup algorithm\n",
    "knn = KNeighborsClassifier()\n",
    "\n",
    "# Loop through different neighbors values\n",
    "for i in neighbors:\n",
    "    knn.set_params(n_neighbors = i) # set neighbors value\n",
    "    \n",
    "    # Fit the algorithm\n",
    "    knn.fit(x4_train, y4_train)\n",
    "    \n",
    "    # Update the training scores\n",
    "    train_scores4.append(knn.score(x4_train, y4_train))\n",
    "    \n",
    "    # Update the test scores\n",
    "    test_scores4.append(knn.score(x4_test, y4_test))"
   ]
  },
  {
   "cell_type": "code",
   "execution_count": 80,
   "id": "1a3d0c4a",
   "metadata": {},
   "outputs": [
    {
     "data": {
      "text/plain": [
       "[0.7721518987341772,\n",
       " 0.7721518987341772,\n",
       " 0.759493670886076,\n",
       " 0.7721518987341772,\n",
       " 0.759493670886076,\n",
       " 0.7721518987341772,\n",
       " 0.7974683544303798,\n",
       " 0.7974683544303798,\n",
       " 0.810126582278481,\n",
       " 0.810126582278481,\n",
       " 0.7848101265822784,\n",
       " 0.7974683544303798,\n",
       " 0.7848101265822784,\n",
       " 0.810126582278481,\n",
       " 0.7848101265822784,\n",
       " 0.7974683544303798,\n",
       " 0.7848101265822784,\n",
       " 0.810126582278481,\n",
       " 0.8227848101265823,\n",
       " 0.7974683544303798]"
      ]
     },
     "execution_count": 80,
     "metadata": {},
     "output_type": "execute_result"
    }
   ],
   "source": [
    "test_scores4"
   ]
  },
  {
   "cell_type": "code",
   "execution_count": 81,
   "id": "0788078f",
   "metadata": {},
   "outputs": [
    {
     "name": "stdout",
     "output_type": "stream",
     "text": [
      "Maximum KNN score on the test data: 82.28%\n"
     ]
    },
    {
     "data": {
      "image/png": "[encoded data removed]",
      "text/plain": [
       "<Figure size 432x288 with 1 Axes>"
      ]
     },
     "metadata": {},
     "output_type": "display_data"
    }
   ],
   "source": [
    "plt.plot(neighbors, train_scores4, label=\"Train score\")\n",
    "plt.plot(neighbors, test_scores4, label=\"Test score\")\n",
    "plt.xticks(np.arange(1, 21, 1))\n",
    "plt.xlabel(\"Number of neighbors\")\n",
    "plt.ylabel(\"Model score\")\n",
    "plt.legend()\n",
    "\n",
    "print(f\"Maximum KNN score on the test data: {max(test_scores4)*100:.2f}%\")"
   ]
  },
  {
   "cell_type": "markdown",
   "id": "18251607",
   "metadata": {},
   "source": [
    "# Comparing Models"
   ]
  },
  {
   "cell_type": "code",
   "execution_count": 82,
   "id": "dc26e1a5",
   "metadata": {},
   "outputs": [
    {
     "data": {
      "text/plain": [
       "RandomForestClassifier    0.822785\n",
       "LinearSVC                 0.810127\n",
       "Logistic Regression       0.746835\n",
       "SVM                       0.822785\n",
       "KNN                       0.759494\n",
       "dtype: float64"
      ]
     },
     "execution_count": 82,
     "metadata": {},
     "output_type": "execute_result"
    }
   ],
   "source": [
    "model_score=[one,two,three,four,five]\n",
    "model_score = pd.Series(model_score,index=['RandomForestClassifier','LinearSVC','Logistic Regression','SVM','KNN'])\n",
    "model_score"
   ]
  },
  {
   "cell_type": "code",
   "execution_count": 83,
   "id": "e02cbf91",
   "metadata": {},
   "outputs": [
    {
     "data": {
      "text/plain": [
       "Text(0, 0.5, 'Accuracy ')"
      ]
     },
     "execution_count": 83,
     "metadata": {},
     "output_type": "execute_result"
    },
    {
     "data": {
      "image/png": "[encoded data removed]",
      "text/plain": [
       "<Figure size 720x432 with 1 Axes>"
      ]
     },
     "metadata": {},
     "output_type": "display_data"
    }
   ],
   "source": [
    "model_score.plot(kind=\"bar\", figsize=(10,6))\n",
    "\n",
    "\n",
    "# Add attributes to the plot to make it more readable\n",
    "plt.title(\"Models accurancy\")\n",
    "plt.xlabel(\"Models\")\n",
    "plt.ylabel(\"Accuracy \")"
   ]
  },
  {
   "cell_type": "code",
   "execution_count": null,
   "id": "f1eea971",
   "metadata": {},
   "outputs": [],
   "source": []
  }
 ],
 "metadata": {
  "kernelspec": {
   "display_name": "Python 3",
   "language": "python",
   "name": "python3"
  },
  "language_info": {
   "codemirror_mode": {
    "name": "ipython",
    "version": 3
   },
   "file_extension": ".py",
   "mimetype": "text/x-python",
   "name": "python",
   "nbconvert_exporter": "python",
   "pygments_lexer": "ipython3",
   "version": "3.9.5"
  }
 },
 "nbformat": 4,
 "nbformat_minor": 5
}
